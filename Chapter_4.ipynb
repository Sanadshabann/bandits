{
 "cells": [
  {
   "cell_type": "code",
   "execution_count": 17,
   "id": "0efbf190",
   "metadata": {},
   "outputs": [],
   "source": [
    "import numpy as np\n",
    "from scipy.stats import bernoulli"
   ]
  },
  {
   "cell_type": "code",
   "execution_count": 15,
   "id": "2770bdda",
   "metadata": {},
   "outputs": [],
   "source": [
    "class BernoulliBandit :\n",
    "    def __init__ (self , means):\n",
    "        for i in means:\n",
    "            assert(i <= 1 and i >= 0)\n",
    "        self.means = means\n",
    "        self.k = len(means)\n",
    "        self.best_mean = max(means)\n",
    "        self.total_rounds = 0\n",
    "        self.regret = 0\n",
    "# Function should return the number of arms\n",
    "    def get_K( self ):\n",
    "         return this.k\n",
    "# Accepts a parameter 0 <= a <= K -1 and returns the\n",
    "# realisation of random variable X with P(X = 1) being\n",
    "# the mean of the (a +1) th arm .\n",
    "    def pull (self , a):\n",
    "        assert(a<= self.k & a >= 0)\n",
    "        self.total_rounds += 1\n",
    "        if (self.means[a] != self.best_mean):\n",
    "         self.regret += self.means[a]\n",
    "        return bernoulli.rvs(self.means[a], size=1)\n",
    "\n",
    "    def get_regret ( self ):\n",
    "        return self.regret"
   ]
  },
  {
   "cell_type": "code",
   "execution_count": 18,
   "id": "9e625d59",
   "metadata": {
    "scrolled": true
   },
   "outputs": [
    {
     "name": "stdout",
     "output_type": "stream",
     "text": [
      "[0. 1. 2. 1. 1. 1. 1. 1. 1. 1. 1. 1. 1. 1. 1. 1. 1. 1. 1. 1. 1. 1. 1. 1.\n",
      " 1. 1. 1. 1. 1. 1. 1. 1. 1. 1. 1. 1. 1. 1. 1. 1. 1. 1. 1. 1. 1. 1. 1. 1.\n",
      " 1. 1. 1. 1. 1. 1. 1. 1. 1. 1. 1. 1. 1. 1. 1. 1. 1. 1. 1. 1. 1. 1. 1. 1.\n",
      " 1. 1. 1. 1. 1. 1. 1. 1. 1. 1. 1. 1. 1. 1. 1. 1. 1. 1. 1. 1. 1. 1. 1. 1.\n",
      " 1. 1. 1. 1. 1. 1. 1. 1. 1. 1. 1. 1. 1. 1. 1. 1. 1. 1. 1. 1. 1. 1. 1. 1.\n",
      " 1. 1. 1. 1. 1. 1. 1. 1. 1. 1. 1. 1. 1. 1. 1. 1. 1. 1. 1. 1. 1. 1. 1. 1.\n",
      " 1. 1. 1. 1. 1. 1. 1. 1. 1. 1. 1. 1. 1. 1. 1. 1. 1. 1. 1. 1. 1. 1. 1. 1.\n",
      " 1. 1. 1. 1. 1. 1. 1. 1. 1. 1. 1. 1. 1. 1. 1. 1. 1. 1. 1. 1. 1. 1. 1. 1.\n",
      " 1. 1. 1. 1. 1. 1. 1. 1.]\n"
     ]
    }
   ],
   "source": [
    "def follow_the_leader(n, bandit):\n",
    "    actions = np.zeros(shape=n)\n",
    "    # for each arm we keep track of the average so far and number of times pulled\n",
    "    averages = np.zeros((bandit.k, 2))\n",
    "    for t in range(n):     #pull each arm once\n",
    "        if t<bandit.k:\n",
    "            actions[t] = t  #pull the arms in order\n",
    "            averages[(t,0)] = bandit.pull(t)\n",
    "            averages[(t, 1)] = 1\n",
    "        else:\n",
    "            max_avg_index = np.argmax(averages, axis = 0)[0]\n",
    "            actions[t] = max_avg_index\n",
    "            averages[max_avg_index][0] = (averages[max_avg_index][0] * averages[max_avg_index][1] + bandit.pull(max_avg_index)) / (averages[max_avg_index][1] +1)\n",
    "            averages[max_avg_index][1] += 1\n",
    "    return actions\n",
    "\n",
    "bandit = BernoulliBandit([0.55, 0.5, 0.6])\n",
    "result = follow_the_leader(n = 200, bandit = bandit)\n",
    "print(result)"
   ]
  },
  {
   "cell_type": "code",
   "execution_count": 19,
   "id": "fe079efb",
   "metadata": {},
   "outputs": [
    {
     "name": "stdout",
     "output_type": "stream",
     "text": [
      "[0. 1. 2. 1. 2. 2. 2. 2. 2. 2. 2. 2. 2. 2. 2. 2. 2. 2. 2. 2. 2. 2. 2. 2.\n",
      " 2. 2. 2. 2. 2. 2. 2. 2. 2. 2. 2. 2. 2. 2. 2. 2. 2. 2. 2. 2. 2. 2. 2. 2.\n",
      " 2. 2. 2. 2. 2. 2. 2. 2. 2. 2. 2. 2. 2. 2. 2. 2. 2. 2. 2. 2. 2. 2. 2. 2.\n",
      " 2. 2. 2. 2. 2. 2. 2. 2. 2. 2. 2. 2. 2. 2. 2. 2. 2. 2. 2. 2. 2. 2. 2. 2.\n",
      " 2. 2. 2. 2. 2. 2. 2. 2. 2. 2. 2. 2. 2. 2. 2. 2. 2. 2. 2. 2. 2. 2. 2. 2.\n",
      " 2. 2. 2. 2. 2. 2. 2. 2. 2. 2. 2. 2. 2. 2. 2. 2. 2. 2. 2. 2. 2. 2. 2. 2.\n",
      " 2. 2. 2. 2. 2. 2. 2. 2. 2. 2. 2. 2. 2. 2. 2. 2. 2. 2. 2. 2. 2. 2. 2. 2.\n",
      " 2. 2. 2. 2. 2. 2. 2. 2. 2. 2. 2. 2. 2. 2. 2. 2. 2. 2. 2. 2. 2. 2. 2. 2.\n",
      " 2. 2. 2. 2. 2. 2. 2. 2.]\n"
     ]
    }
   ],
   "source": [
    "bandit = BernoulliBandit([0.2, 0.5, 0.9])\n",
    "result = follow_the_leader(n = 200, bandit = bandit)\n",
    "print(result)"
   ]
  }
 ],
 "metadata": {
  "kernelspec": {
   "display_name": "Python 3 (ipykernel)",
   "language": "python",
   "name": "python3"
  },
  "language_info": {
   "codemirror_mode": {
    "name": "ipython",
    "version": 3
   },
   "file_extension": ".py",
   "mimetype": "text/x-python",
   "name": "python",
   "nbconvert_exporter": "python",
   "pygments_lexer": "ipython3",
   "version": "3.9.7"
  }
 },
 "nbformat": 4,
 "nbformat_minor": 5
}
