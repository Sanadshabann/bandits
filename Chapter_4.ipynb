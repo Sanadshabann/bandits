{
 "cells": [
  {
   "cell_type": "code",
   "execution_count": 17,
   "id": "0efbf190",
   "metadata": {},
   "outputs": [],
   "source": [
    "import numpy as np\n",
    "from scipy.stats import bernoulli\n",
    "import matplotlib as plt\n",
    "from matplotlib import pyplot"
   ]
  },
  {
   "cell_type": "code",
   "execution_count": 8,
   "id": "2770bdda",
   "metadata": {},
   "outputs": [],
   "source": [
    "class BernoulliBandit :\n",
    "    def __init__ (self , means):\n",
    "        for i in means:\n",
    "            assert(i <= 1 and i >= 0)\n",
    "        self.means = means\n",
    "        self.k = len(means)\n",
    "        self.best_mean = max(means)\n",
    "        self.total_rounds = 0\n",
    "        self.regret = 0\n",
    "# Function should return the number of arms\n",
    "    def get_K( self ):\n",
    "         return this.k\n",
    "# Accepts a parameter 0 <= a <= K -1 and returns the\n",
    "# realisation of random variable X with P(X = 1) being\n",
    "# the mean of the (a +1) th arm .\n",
    "    def pull (self , a):\n",
    "        self.total_rounds += 1\n",
    "        if (self.means[a] != self.best_mean):\n",
    "         self.regret += self.means[a]\n",
    "        return bernoulli.rvs(self.means[a], size=1)\n",
    "\n",
    "    def get_regret ( self ):\n",
    "        return self.regret"
   ]
  },
  {
   "cell_type": "code",
   "execution_count": 9,
   "id": "9e625d59",
   "metadata": {
    "scrolled": true
   },
   "outputs": [],
   "source": [
    "def follow_the_leader(n, bandit):\n",
    "    actions = np.zeros(shape=n)\n",
    "    # for each arm we keep track of the average so far and number of times pulled\n",
    "    averages = np.zeros((bandit.k, 2))\n",
    "    for t in range(n):     #pull each arm once\n",
    "        if t<bandit.k:\n",
    "            actions[t] = t  #pull the arms in order\n",
    "            averages[(t,0)] = bandit.pull(t)\n",
    "            averages[(t, 1)] = 1\n",
    "        else:\n",
    "            max_avg_index = np.argmax(averages, axis = 0)[0]\n",
    "            actions[t] = max_avg_index\n",
    "            averages[max_avg_index][0] = (averages[max_avg_index][0] * averages[max_avg_index][1] + bandit.pull(max_avg_index)) / (averages[max_avg_index][1] +1)\n",
    "            averages[max_avg_index][1] += 1\n",
    "    return actions"
   ]
  },
  {
   "cell_type": "code",
   "execution_count": 10,
   "id": "60050e09",
   "metadata": {},
   "outputs": [
    {
     "data": {
      "text/plain": [
       "array([ 0.5, 48.5,  0.5,  0.5, 49.5, 26. ,  0.5,  0.5, 43.5,  0.5, 49.5,\n",
       "        0.5,  1. , 49.5, 48.5, 49.5,  1.5, 47.5, 49.5, 49.5, 49.5, 49.5,\n",
       "       48.5,  0.5, 49.5, 14. ,  0.5,  0.5,  0.5,  0.5,  0.5, 49.5,  2. ,\n",
       "       29.5, 46.5, 49.5, 49.5, 49.5, 49.5,  6. ,  1. ,  0.5, 49.5,  0.5,\n",
       "       49.5, 44. , 38. , 49.5,  5. , 49.5,  0.5,  0.5,  0.5,  2.5, 49.5,\n",
       "        0.5,  0.5, 48.5, 49. , 49.5, 49.5, 49.5,  0.5,  0.5, 49.5, 49.5,\n",
       "       48.5,  0.5,  0.5, 49.5,  0.5,  1. ,  3.5, 49.5, 49. , 49.5, 49.5,\n",
       "        0.5,  0.5, 49.5,  1. , 34. ,  0.5, 49.5, 49.5,  0.5,  2.5,  0.5,\n",
       "        5.5, 46. , 49.5, 49.5,  0.5,  1. , 49.5, 12.5, 49.5,  7. , 49.5,\n",
       "       49.5, 49.5,  1. ,  2.5, 49. ,  0.5,  0.5, 49.5,  1. , 49.5, 49.5,\n",
       "       49.5, 49.5,  0.5,  8. ,  1.5, 49.5, 47.5,  2.5, 49.5,  0.5,  2. ,\n",
       "       49.5,  0.5,  2. ,  0.5,  0.5,  0.5, 49.5,  1.5,  0.5,  0.5, 49.5,\n",
       "        0.5,  0.5, 49.5, 49.5,  0.5, 49.5, 49.5, 49.5,  0.5, 49.5, 48.5,\n",
       "       49.5,  0.5,  0.5, 49.5,  2. ,  0.5, 45.5,  1. , 49.5, 17.5, 11.5,\n",
       "        1.5, 49.5,  0.5, 49.5, 49.5,  2.5,  7. ,  4. , 47.5,  0.5,  0.5,\n",
       "        0.5,  0.5, 47. , 49. , 47. , 49.5,  1. ,  0.5, 48.5,  3.5, 49.5,\n",
       "       49.5, 48. ,  1. ,  0.5, 46. ,  0.5, 49.5,  0.5, 49.5, 47. , 47.5,\n",
       "       49.5,  4. , 49.5, 47.5,  0.5,  0.5, 49.5, 49.5,  1.5, 16.5,  0.5,\n",
       "        2. , 48.5,  1.5, 49. , 49.5,  1.5,  0.5, 49.5, 49.5, 49.5,  0.5,\n",
       "       49.5, 48.5,  0.5,  4.5, 49.5,  2. , 49.5,  0.5,  6.5, 49.5, 49.5,\n",
       "       49.5,  0.5,  2. , 49.5,  0.5,  0.5, 49.5,  0.5, 45. ,  1.5,  5. ,\n",
       "        4.5,  0.5,  2.5,  0.5, 49.5, 49.5,  4.5,  1.5, 49.5,  0.5, 49.5,\n",
       "       49.5,  3. ,  0.5, 49. ,  0.5, 49.5,  0.5, 49.5,  0.5, 49. , 13.5,\n",
       "        0.5, 49.5, 49.5, 48.5, 49.5,  1.5, 49.5, 49.5,  0.5, 49.5,  7.5,\n",
       "       49.5,  2.5,  4.5,  0.5,  0.5, 49. ,  0.5,  1. ,  0.5,  0.5,  0.5,\n",
       "       40. ,  0.5, 49.5, 49.5, 49.5, 49.5, 49.5,  0.5, 38.5,  0.5,  0.5,\n",
       "       48. ,  0.5, 49.5,  0.5, 49.5, 21. , 49. , 49.5, 49.5,  1.5, 49.5,\n",
       "        0.5, 17.5,  0.5,  1. ,  1. , 49.5,  0.5,  5. ,  5.5, 49.5,  0.5,\n",
       "       49.5, 49.5, 49.5,  0.5, 14.5,  0.5, 49.5, 44.5,  3. , 49.5, 49.5,\n",
       "       49.5, 49.5, 49.5,  0.5,  0.5, 49. ,  1.5,  0.5,  0.5, 49.5, 49.5,\n",
       "       49.5, 14.5,  2.5, 49.5,  4.5,  2. , 49.5, 41. ,  0.5, 49.5,  0.5,\n",
       "        0.5, 41. ,  0.5, 49.5,  5.5,  0.5,  0.5, 48.5, 49.5, 49.5, 49.5,\n",
       "        0.5, 49.5,  0.5,  0.5,  6.5,  2. , 49.5,  0.5, 16.5, 49.5, 28. ,\n",
       "       49.5,  0.5, 49.5,  1.5, 46.5,  2.5, 49.5,  0.5, 49.5,  8. ,  1.5,\n",
       "        0.5, 49.5, 49.5, 49.5, 49.5, 49.5,  3.5, 49.5,  0.5,  0.5, 49.5,\n",
       "       49.5, 49.5, 49.5, 49.5,  0.5, 49.5, 49.5,  2. , 49.5, 48. ,  0.5,\n",
       "       48.5, 49.5, 49.5,  0.5, 18. ,  1.5,  1.5, 49. , 49.5, 49.5, 49.5,\n",
       "        1.5, 49.5, 48.5, 49.5, 49.5,  1. ,  0.5, 49.5, 49.5, 49.5,  0.5,\n",
       "        0.5, 49.5, 49.5, 49.5,  0.5, 49.5, 49.5, 49.5,  0.5, 49.5, 47.5,\n",
       "        1. ,  5. ,  1.5,  1.5, 49.5,  0.5,  2.5, 49.5,  0.5, 49.5, 49.5,\n",
       "        0.5,  0.5, 49.5, 49.5, 29.5,  0.5,  1. , 48. , 49.5, 49.5, 46.5,\n",
       "       48. , 49.5,  1.5,  0.5,  1. ,  0.5, 49.5, 49.5, 49.5,  0.5, 49.5,\n",
       "       49.5,  0.5,  7.5,  0.5,  0.5,  0.5, 49.5,  2.5, 49.5,  0.5, 49.5,\n",
       "       49.5,  9.5, 48.5, 49.5, 39. , 49.5, 49.5, 49.5,  0.5, 49.5, 49.5,\n",
       "        0.5, 49.5, 49. , 49.5,  0.5,  8.5,  0.5, 49.5,  1.5,  1.5,  1. ,\n",
       "       49.5, 49.5, 49.5, 49.5,  0.5,  1. ,  0.5,  0.5,  5.5,  0.5, 49.5,\n",
       "       49.5,  1. , 49.5,  3. ,  0.5, 49.5, 49.5,  0.5, 49.5,  5.5, 24. ,\n",
       "       49.5, 49.5, 49.5, 49.5,  0.5, 49.5, 49.5,  1. , 49. ,  0.5,  0.5,\n",
       "        2. , 49.5, 49.5, 49.5,  0.5,  2. ,  0.5,  0.5, 49.5,  0.5, 49.5,\n",
       "        0.5,  0.5,  0.5,  0.5,  0.5,  3. ,  0.5,  6.5, 46. ,  0.5, 49.5,\n",
       "       49.5, 49. ,  1.5,  0.5,  1. , 49.5,  0.5,  0.5, 49.5,  1. , 49.5,\n",
       "       49. ,  0.5,  0.5, 49.5,  1.5,  0.5, 49.5, 49.5,  0.5,  1.5, 47.5,\n",
       "        3.5, 49.5, 49.5, 49.5, 49.5,  0.5,  4. , 49.5,  1.5, 49.5, 49.5,\n",
       "        0.5,  0.5,  0.5, 49.5, 49.5, 49.5, 49.5, 49.5,  1.5,  0.5,  5. ,\n",
       "        1. ,  0.5, 49.5, 49. ,  3.5, 49.5,  4.5, 49.5, 49.5, 48.5,  0.5,\n",
       "       42. , 49.5,  9.5, 49.5, 43. ,  0.5,  0.5,  0.5, 49. , 49.5, 49.5,\n",
       "       49.5,  7.5,  0.5, 49. , 46. ,  0.5,  0.5,  0.5, 49.5, 49.5,  0.5,\n",
       "        1. ,  1. ,  0.5, 49.5, 49.5, 49.5, 49.5, 49.5,  0.5, 49.5, 49.5,\n",
       "        0.5, 49.5, 49.5, 47. ,  1.5, 47.5,  4. , 49.5,  0.5,  0.5, 49.5,\n",
       "        1. , 49.5,  0.5,  0.5, 48.5, 49.5, 49.5, 19. , 49.5, 49.5, 49.5,\n",
       "        2. , 49.5, 49.5,  1.5,  0.5, 49.5,  0.5, 49.5, 49.5, 49.5, 25. ,\n",
       "       49.5,  0.5, 49.5,  0.5,  0.5, 49.5, 48. , 49.5, 49.5,  0.5, 49.5,\n",
       "       49.5, 49.5, 49.5,  0.5,  7. , 49.5, 49.5,  0.5, 49.5,  2.5, 49.5,\n",
       "        0.5, 49.5, 49.5, 49.5, 49.5,  1.5,  2. ,  2. ,  0.5,  2. ,  3. ,\n",
       "        1. , 49.5, 49.5, 49.5, 49.5,  0.5, 49.5, 49.5, 49.5,  2.5,  0.5,\n",
       "       49.5, 49.5, 49.5, 49.5,  3.5,  0.5, 49.5, 49.5, 49.5, 49.5,  0.5,\n",
       "       49.5, 49.5, 49.5, 49.5, 49.5, 49.5,  0.5, 49.5,  2.5,  0.5, 49.5,\n",
       "       49.5, 49.5,  9. , 48.5,  0.5, 49.5,  1. , 49.5,  4.5,  0.5,  3.5,\n",
       "       49.5, 49.5, 13.5,  5.5,  0.5, 49.5,  1.5, 49.5,  0.5,  0.5, 10.5,\n",
       "       49.5, 49.5,  3. ,  5.5, 47.5, 49.5,  2. , 49.5, 49.5,  1. ,  6.5,\n",
       "       49.5,  1.5, 49.5,  1. , 49.5,  1.5, 49.5, 49.5, 49.5, 49.5,  0.5,\n",
       "       49.5,  1.5, 12.5, 49.5, 49.5,  1.5, 49.5, 47. ,  0.5, 49.5, 49.5,\n",
       "       46.5,  0.5, 48. ,  0.5, 49.5,  4.5,  0.5,  0.5, 49.5, 49.5,  0.5,\n",
       "        3. , 49.5, 49.5, 49.5, 33.5, 49.5,  0.5,  0.5, 49.5, 49. , 49.5,\n",
       "       49.5,  2.5, 49.5, 49.5, 44.5, 49. , 49.5, 49.5,  2. , 49.5,  0.5,\n",
       "       49.5, 47.5, 49.5, 17.5, 49.5, 48.5,  0.5,  0.5, 49. , 49.5, 49.5,\n",
       "        0.5, 49.5, 49.5, 49.5,  0.5, 49.5, 49.5, 49.5, 11. , 42. , 49.5,\n",
       "       49.5, 49.5, 47.5,  2. , 49.5,  0.5, 48.5, 11.5, 49. , 49.5, 49.5,\n",
       "       49.5, 49.5, 49.5,  0.5, 49.5,  0.5, 49.5,  0.5, 49.5,  0.5,  0.5,\n",
       "       49.5,  0.5, 49.5, 49.5,  1.5,  0.5, 49.5, 35. ,  2. , 49.5, 47.5,\n",
       "       49.5,  0.5,  1.5,  0.5, 49.5, 49.5,  0.5,  4.5, 49.5, 49.5, 18.5,\n",
       "       49.5,  2. ,  0.5, 49.5,  1. ,  1.5, 23. , 49.5,  1.5,  0.5, 49.5,\n",
       "       48.5,  0.5,  0.5, 49.5,  9.5,  3.5,  6.5, 49.5,  2. , 49.5, 49.5,\n",
       "        4.5,  1. , 49.5, 48.5, 49.5,  9.5, 49.5,  0.5,  1. , 49.5,  0.5,\n",
       "       49.5,  7.5,  5. ,  0.5,  0.5, 49.5,  1. , 49.5,  0.5, 49.5,  8. ,\n",
       "        4. ,  0.5,  0.5, 47.5, 49.5, 12.5, 49.5,  3.5, 49.5, 49.5, 49.5,\n",
       "        1. ,  1. ,  1.5,  8. ,  0.5, 46. ,  4.5,  3.5, 49.5,  4. ,  0.5,\n",
       "       49.5, 49.5,  1. , 17.5,  0.5, 49.5, 49.5,  0.5, 49.5,  0.5, 24. ,\n",
       "       47.5, 49.5,  0.5, 49.5, 49.5,  4. , 11.5,  0.5,  8. , 49.5, 49.5,\n",
       "        0.5, 48.5, 49.5,  0.5,  0.5,  0.5,  1.5, 24.5, 49.5,  0.5,  1. ,\n",
       "       49.5,  0.5, 49.5, 49.5,  0.5, 49.5,  1.5,  0.5,  0.5,  0.5])"
      ]
     },
     "execution_count": 10,
     "metadata": {},
     "output_type": "execute_result"
    }
   ],
   "source": [
    "##exercise 4.11\n",
    "regrets = np.empty(1000)\n",
    "for i in range(1000):\n",
    "    bandit = BernoulliBandit([0.5, 0.6])\n",
    "    follow_the_leader(100, bandit)\n",
    "    regrets[i] = bandit.get_regret()\n",
    "regrets"
   ]
  },
  {
   "cell_type": "code",
   "execution_count": 18,
   "id": "c7eb2145",
   "metadata": {},
   "outputs": [
    {
     "data": {
      "text/plain": [
       "(array([421.,  31.,  13.,   9.,   5.,   5.,   2.,   4.,  10., 500.]),\n",
       " array([ 0.5,  5.4, 10.3, 15.2, 20.1, 25. , 29.9, 34.8, 39.7, 44.6, 49.5]),\n",
       " <BarContainer object of 10 artists>)"
      ]
     },
     "execution_count": 18,
     "metadata": {},
     "output_type": "execute_result"
    },
    {
     "data": {
      "image/png": "[encoded data removed]",
      "text/plain": [
       "<Figure size 432x288 with 1 Axes>"
      ]
     },
     "metadata": {
      "needs_background": "light"
     },
     "output_type": "display_data"
    }
   ],
   "source": [
    "pyplot.hist(regrets)\n",
    "##follow the leader commits too soon"
   ]
  }
 ],
 "metadata": {
  "kernelspec": {
   "display_name": "Python 3 (ipykernel)",
   "language": "python",
   "name": "python3"
  },
  "language_info": {
   "codemirror_mode": {
    "name": "ipython",
    "version": 3
   },
   "file_extension": ".py",
   "mimetype": "text/x-python",
   "name": "python",
   "nbconvert_exporter": "python",
   "pygments_lexer": "ipython3",
   "version": "3.9.7"
  }
 },
 "nbformat": 4,
 "nbformat_minor": 5
}
