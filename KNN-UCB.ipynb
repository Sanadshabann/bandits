{
 "cells": [
  {
   "cell_type": "code",
   "execution_count": 1,
   "id": "acbe10aa",
   "metadata": {},
   "outputs": [],
   "source": [
    "import numpy as np\n",
    "from matplotlib import pyplot as plt\n",
    "from scipy.spatial.distance import cdist\n",
    "import math as m\n",
    "import random\n",
    "import Bandit as bnd"
   ]
  },
  {
   "cell_type": "code",
   "execution_count": 64,
   "id": "1bcfec8b",
   "metadata": {},
   "outputs": [],
   "source": [
    "def KNN_UCB(bandit,n,cv, theta, phi): ##cv:context vector\n",
    "    n_arms = bandit.k #number of arms\n",
    "    actions = []\n",
    "    rewards = []\n",
    "    for a in range(n_arms): ##play each arm once regardless of context\n",
    "        reward = bandit.pull(a)\n",
    "        rewards.append(reward)\n",
    "        actions.append(a)\n",
    "    for t in range(n_arms,n,1):\n",
    "        distances= cdist(cv[:t], [cv[t]], 'Euclidean')\n",
    "        distances = [dist for sublist in distances for dist in sublist]\n",
    "        k_a = np.zeros(n_arms)\n",
    "        index = np.zeros(n_arms) ## to store I_t,k\n",
    "        for a in range(n_arms): ##evaluate k_a for all a\n",
    "            U = np.zeros(t)\n",
    "            for k in range(1,t+1, 1): ##calculate uncertainty on [t-1]\n",
    "                k_least = np.argpartition(distances, k-1)[:k] ## indices of k nearest neighbours\n",
    "                N = sum(np.array(actions)[k_least] == a) ##N_t,k\n",
    "                U[k-1] = m.sqrt(theta* m.log(t)/N) + phi(t) * distances[k_least[-1]] if (N!=0) else phi(t) * distances[k_least[-1]]\n",
    "            k_a[a] = np.argmin(U) + 1\n",
    "            k_least = np.argpartition(distances, int(k_a[a]-1))[:int(k_a[a])]\n",
    "            N = sum(np.array(actions)[k_least] == a)\n",
    "            S = sum(np.array(rewards)[k_least] * (np.array(actions)[k_least] == a))\n",
    "            f_hat = S/N if (N!=0) else 0\n",
    "            index[a] = f_hat + m.sqrt(theta* m.log(t)/N) + phi(t) * distances[k_least[-1]] if(N!=0) else f_hat + phi(t) * distances[k_least[-1]]\n",
    "        arm = np.argmax(index)\n",
    "        reward = bandit.pull(arm)\n",
    "        actions.append(arm)\n",
    "        rewards.append(reward)\n",
    "    return actions, rewards, bandit.regret"
   ]
  },
  {
   "cell_type": "markdown",
   "id": "bbc1357d",
   "metadata": {},
   "source": [
    "## Linear Case\n",
    "$E[X_{t,a} | c_{t}] = c_t^T . \\theta_a^*$ for some unknown coeffiecient vector $\\theta$"
   ]
  },
  {
   "cell_type": "code",
   "execution_count": null,
   "id": "431133a4",
   "metadata": {},
   "outputs": [],
   "source": []
  },
  {
   "cell_type": "markdown",
   "id": "38c375c1",
   "metadata": {},
   "source": [
    "## One nearest neighbor noiseless reward\n",
    "TODO: pass the true coefficient vector for each earm in the argument of KNN_UCB"
   ]
  },
  {
   "cell_type": "code",
   "execution_count": 86,
   "id": "5e9f1b41",
   "metadata": {},
   "outputs": [
    {
     "data": {
      "text/plain": [
       "array([25, 35, 70])"
      ]
     },
     "execution_count": 86,
     "metadata": {},
     "output_type": "execute_result"
    }
   ],
   "source": [
    "np.dot([[2,3],[4,3],[5,9]], [5,5])"
   ]
  }
 ],
 "metadata": {
  "kernelspec": {
   "display_name": "Python 3 (ipykernel)",
   "language": "python",
   "name": "python3"
  },
  "language_info": {
   "codemirror_mode": {
    "name": "ipython",
    "version": 3
   },
   "file_extension": ".py",
   "mimetype": "text/x-python",
   "name": "python",
   "nbconvert_exporter": "python",
   "pygments_lexer": "ipython3",
   "version": "3.9.7"
  }
 },
 "nbformat": 4,
 "nbformat_minor": 5
}
