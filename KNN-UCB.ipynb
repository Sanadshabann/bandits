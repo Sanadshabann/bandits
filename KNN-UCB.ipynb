{
 "cells": [
  {
   "cell_type": "code",
   "execution_count": 3,
   "id": "62002a5b",
   "metadata": {},
   "outputs": [],
   "source": [
    "import numpy as np\n",
    "from matplotlib import pyplot as plt\n",
    "from scipy.spatial.distance import cdist\n",
    "import math as m\n",
    "import random\n",
    "import Bandit as bnd"
   ]
  },
  {
   "cell_type": "code",
   "execution_count": 34,
   "id": "a6e7ae91",
   "metadata": {},
   "outputs": [],
   "source": [
    "def KNN_UCB(bandit,n,cv, theta, phi): ##cv:context vector\n",
    "    n_arms = bandit.k #number of arms\n",
    "    actions = []\n",
    "    rewards = []\n",
    "    for a in range(n_arms): ##play each arm once regardless of context\n",
    "        reward = bandit.pull(a)\n",
    "        rewards.append(reward)\n",
    "        actions.append(a)\n",
    "    for t in range(n_arms,n,1):\n",
    "        distances= cv[:t] - cv[t] * np.ones(t) \n",
    "        k_a = np.zeros(n_arms)\n",
    "        index = np.zeros(n_arms) ## to store I_t,k\n",
    "        for a in range(n_arms): ##evaluate k_a for all a\n",
    "            U = np.zeros(t-1)\n",
    "            for k in range(1,t, 1): ##calculate uncertainty on [t-1]\n",
    "                k_least = np.argpartition(distances, k-1)[:k] ## indices of k nearest neighbours\n",
    "                N = sum(np.array(actions)[k_least] == a) ##N_t,k\n",
    "                U[k-1] = m.sqrt(theta* m.log(t)/N) + phi(t) * distances[k_least[-1]] if (N!=0) else phi(t) * distances[k_least[-1]]\n",
    "            k_a[a] = np.argmin(U) + 1\n",
    "            k_least = np.argpartition(distances, int(k_a[a]-1))[:int(k_a[a])]\n",
    "            N = sum(np.array(actions)[k_least] == a)\n",
    "            S = sum(np.array(rewards)[k_least] * (np.array(actions)[k_least] == a))\n",
    "            f_hat = S/N if (N!=0) else 0\n",
    "            index[a] = f_hat + m.sqrt(theta* m.log(t)/N) + phi(t) * distances[k_least[-1]] if(N!=0) else f_hat + phi(t) * distances[k_least[-1]]\n",
    "        arm = np.argmax(index)\n",
    "        reward = bandit.pull(arm)\n",
    "        actions.append(arm)\n",
    "        rewards.append(reward)\n",
    "    return actions, rewards, bandit.regret"
   ]
  },
  {
   "cell_type": "code",
   "execution_count": 38,
   "id": "3837b70c",
   "metadata": {
    "scrolled": true
   },
   "outputs": [
    {
     "data": {
      "text/plain": [
       "([0,\n",
       "  1,\n",
       "  0,\n",
       "  0,\n",
       "  0,\n",
       "  0,\n",
       "  0,\n",
       "  0,\n",
       "  0,\n",
       "  0,\n",
       "  0,\n",
       "  0,\n",
       "  0,\n",
       "  0,\n",
       "  0,\n",
       "  0,\n",
       "  0,\n",
       "  0,\n",
       "  0,\n",
       "  0,\n",
       "  0,\n",
       "  0,\n",
       "  0,\n",
       "  0,\n",
       "  0,\n",
       "  0,\n",
       "  0,\n",
       "  0,\n",
       "  0,\n",
       "  0,\n",
       "  0,\n",
       "  0,\n",
       "  0,\n",
       "  0,\n",
       "  0,\n",
       "  0,\n",
       "  0,\n",
       "  0,\n",
       "  0,\n",
       "  0],\n",
       " [-0.18563484170363337,\n",
       "  -1.4284131312662116,\n",
       "  1.717989623133634,\n",
       "  -1.2665963385809242,\n",
       "  0.6676343230197493,\n",
       "  -1.0966331073685769,\n",
       "  -0.9184114874522402,\n",
       "  1.563988046712201,\n",
       "  -0.5659150213463929,\n",
       "  -1.540270341308198,\n",
       "  0.6102244477712109,\n",
       "  0.22167134912566264,\n",
       "  -0.5865351418726732,\n",
       "  0.6789236566793903,\n",
       "  -0.5065408415025394,\n",
       "  0.27766734323181286,\n",
       "  0.0777794951335877,\n",
       "  1.256908800796717,\n",
       "  0.14495111799781224,\n",
       "  0.8328283414477224,\n",
       "  -0.04159408661646156,\n",
       "  0.1674374909937518,\n",
       "  -1.069581024913078,\n",
       "  -0.7238387640449342,\n",
       "  1.1912380562677443,\n",
       "  -0.5010958074973306,\n",
       "  -0.8472501373287084,\n",
       "  0.7707895133905591,\n",
       "  -1.9160385121553942,\n",
       "  -1.3360086343985929,\n",
       "  1.3813899725979606,\n",
       "  0.10722655600063291,\n",
       "  -0.3585760225313519,\n",
       "  -0.9617756519254068,\n",
       "  -1.1603522985393209,\n",
       "  1.6218364253051374,\n",
       "  -2.101302688187786,\n",
       "  0.3800684180484325,\n",
       "  -0.23313372848080938,\n",
       "  0.958323807752656])"
      ]
     },
     "execution_count": 38,
     "metadata": {},
     "output_type": "execute_result"
    }
   ],
   "source": [
    "bandit = bnd.GaussianBandit([-0.1,0])\n",
    "def phi(t):\n",
    "    return 1\n",
    "actions, rewards, regret = KNN_UCB(bandit, 40, np.ones(40), 0.5, phi)\n",
    "actions, rewards"
   ]
  },
  {
   "cell_type": "code",
   "execution_count": 48,
   "id": "fe02b6e1",
   "metadata": {},
   "outputs": [
    {
     "name": "stdout",
     "output_type": "stream",
     "text": [
      "[8 9 0]\n",
      "[8 9 0 7 2 3 4 1 5 6]\n"
     ]
    }
   ],
   "source": [
    "A = [-10,23,4,5,6,8,9,-3,-29,-1000]\n",
    "print(np.argpartition(A, 3)[:3])\n",
    "print(np.argpartition(A, 3))"
   ]
  }
 ],
 "metadata": {
  "kernelspec": {
   "display_name": "Python 3 (ipykernel)",
   "language": "python",
   "name": "python3"
  },
  "language_info": {
   "codemirror_mode": {
    "name": "ipython",
    "version": 3
   },
   "file_extension": ".py",
   "mimetype": "text/x-python",
   "name": "python",
   "nbconvert_exporter": "python",
   "pygments_lexer": "ipython3",
   "version": "3.9.7"
  }
 },
 "nbformat": 4,
 "nbformat_minor": 5
}
