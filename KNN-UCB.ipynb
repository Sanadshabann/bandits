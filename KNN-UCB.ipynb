{
 "cells": [
  {
   "cell_type": "code",
   "execution_count": 2,
   "id": "acbe10aa",
   "metadata": {},
   "outputs": [],
   "source": [
    "import numpy as np\n",
    "from matplotlib import pyplot as plt\n",
    "from scipy.spatial.distance import cdist\n",
    "import math as m\n",
    "import random\n",
    "import Bandit as bnd\n",
    "import ContextBandit as cb"
   ]
  },
  {
   "cell_type": "code",
   "execution_count": 3,
   "id": "bc1c55ca",
   "metadata": {},
   "outputs": [],
   "source": [
    "def KNN_UCB(bandit,X, theta, phi): ##X:context vector\n",
    "    n = len(X)\n",
    "    regrets = []\n",
    "    n_arms = bandit.k #number of arms\n",
    "    actions = []\n",
    "    rewards = []\n",
    "    assert(n >= n_arms)\n",
    "    for a in range(n_arms): ##play each arm once regardless of context\n",
    "        reward = bandit.pull(a, X[a])\n",
    "        rewards.append(reward)\n",
    "        actions.append(a)\n",
    "        regrets.append(bandit.regret)\n",
    "    for t in range(n_arms,n,1):\n",
    "        distances= cdist(X[:t], [X[t]], 'Euclidean')\n",
    "        distances = [dist for sublist in distances for dist in sublist]\n",
    "        k_a = np.zeros(n_arms)\n",
    "        index = np.zeros(n_arms) ## to store I_t,k\n",
    "        for a in range(n_arms): ##evaluate k_a for all a\n",
    "            U = np.zeros(t)\n",
    "            for k in range(1,t+1, 1): ##calculate uncertainty on [t-1]\n",
    "                k_least = np.argpartition(distances, k-1)[:k] ## indices of k nearest neighbours\n",
    "                N = sum(np.array(actions)[k_least] == a) ##N_t,k\n",
    "                U[k-1] = m.sqrt(theta* m.log(t)/N) + phi(t) * distances[k_least[-1]] if (N!=0) else phi(t) * distances[k_least[-1]]\n",
    "            k_a[a] = np.argmin(U) + 1\n",
    "            k_least = np.argpartition(distances, int(k_a[a]-1))[:int(k_a[a])]\n",
    "            N = sum(np.array(actions)[k_least] == a)\n",
    "            S = sum(np.array(rewards)[k_least] * (np.array(actions)[k_least] == a))\n",
    "            f_hat = S/N if (N!=0) else 0\n",
    "            index[a] = f_hat + m.sqrt(theta* m.log(t)/N) + phi(t) * distances[k_least[-1]] if(N!=0) else f_hat + phi(t) * distances[k_least[-1]]\n",
    "        arm = np.argmax(index)\n",
    "        reward = bandit.pull(arm, X[t])\n",
    "        regrets.append(bandit.regret)\n",
    "        actions.append(arm)\n",
    "        rewards.append(reward)\n",
    "    return actions, rewards, regrets"
   ]
  },
  {
   "cell_type": "markdown",
   "id": "bbc1357d",
   "metadata": {},
   "source": [
    "## Case 1 : Linear\n",
    "\n",
    "$E[X_{t,a} | c_{t}] = c_t^T . \\theta_a^*$ for some unknown coeffiecient vector $\\theta$"
   ]
  },
  {
   "cell_type": "code",
   "execution_count": 22,
   "id": "431133a4",
   "metadata": {},
   "outputs": [],
   "source": [
    "bandit = bnd.LinContextGauss([[0.9,-0.5,0.7],[-0.9,0.8,0.2]])\n",
    "cv = np.linspace((2,0,3), (0,6,2), 1000)\n",
    "actions,rewards,regrets = KNN_UCB(bandit, cv, 0.5, lambda a : 1)"
   ]
  },
  {
   "cell_type": "code",
   "execution_count": 43,
   "id": "a6f16f00",
   "metadata": {
    "scrolled": false
   },
   "outputs": [
    {
     "data": {
      "text/plain": [
       "Text(0, 0.5, '$R_n$')"
      ]
     },
     "execution_count": 43,
     "metadata": {},
     "output_type": "execute_result"
    },
    {
     "data": {
      "image/png": "[encoded data removed]",
      "text/plain": [
       "<Figure size 432x288 with 1 Axes>"
      ]
     },
     "metadata": {
      "needs_background": "light"
     },
     "output_type": "display_data"
    }
   ],
   "source": [
    "plt.plot(regrets)\n",
    "plt.xlabel(\"n\")\n",
    "plt.ylabel(\"$R_n$\")"
   ]
  },
  {
   "cell_type": "markdown",
   "id": "55be4db5",
   "metadata": {},
   "source": [
    "### Case 2: $ X_i \\in [0,1]^d,  \\eta_a(x)=\\prod_{j=1}^d \\sin(\\theta_0 x_j+\\theta_1 *a)$ for some parameters $\\theta_0$ and $\\theta_1$\n",
    "\n",
    "I will start exploring with noiseless rewards\n",
    "\n",
    "1) Generate N d-dimensional context vectors from Uniform($[0,1]^d$), e.g. d = 4\n"
   ]
  },
  {
   "cell_type": "code",
   "execution_count": 120,
   "id": "cf69f6f1",
   "metadata": {},
   "outputs": [],
   "source": [
    "X = np.random.uniform(0,1, size = (1000,4))"
   ]
  },
  {
   "cell_type": "markdown",
   "id": "f8fce40c",
   "metadata": {},
   "source": [
    "2) Define your reward functions, e.g.:"
   ]
  },
  {
   "cell_type": "code",
   "execution_count": 121,
   "id": "604c9197",
   "metadata": {},
   "outputs": [],
   "source": [
    "lambdas = [lambda x: np.prod([m.sin(xs * m.pi/3) for xs in x]),\n",
    "           lambda x: np.prod([m.sin(xs* m.pi/6 + m.pi/4) for xs in x])]"
   ]
  },
  {
   "cell_type": "markdown",
   "id": "ad7cb3d1",
   "metadata": {},
   "source": [
    "3)Define bandit:"
   ]
  },
  {
   "cell_type": "code",
   "execution_count": 122,
   "id": "0e19217d",
   "metadata": {},
   "outputs": [],
   "source": [
    "bandit = cb.ContextBandit(lambdas)"
   ]
  },
  {
   "cell_type": "markdown",
   "id": "3d938e53",
   "metadata": {},
   "source": [
    "4) Simulate using KNN:"
   ]
  },
  {
   "cell_type": "code",
   "execution_count": 123,
   "id": "bd6cfb4c",
   "metadata": {},
   "outputs": [],
   "source": [
    "actions,rewards,regrets = KNN_UCB(bandit,X, 0.5, lambda a : 1)"
   ]
  },
  {
   "cell_type": "code",
   "execution_count": 129,
   "id": "c0119c3d",
   "metadata": {
    "scrolled": true
   },
   "outputs": [
    {
     "name": "stdout",
     "output_type": "stream",
     "text": [
      "503\n"
     ]
    },
    {
     "data": {
      "text/plain": [
       "Text(0, 0.5, '$R_n$')"
      ]
     },
     "execution_count": 129,
     "metadata": {},
     "output_type": "execute_result"
    },
    {
     "data": {
      "image/png": "[encoded data removed]",
      "text/plain": [
       "<Figure size 432x288 with 1 Axes>"
      ]
     },
     "metadata": {
      "needs_background": "light"
     },
     "output_type": "display_data"
    }
   ],
   "source": [
    "plt.plot(regrets)\n",
    "print(np.sum(np.subtract(regrets[1:], regrets[0:-1]) == 0 ))\n",
    "plt.title(\"Regret of KNN-UCB\")\n",
    "plt.xlabel(\"n\")\n",
    "plt.ylabel(\"$R_n$\")"
   ]
  },
  {
   "cell_type": "markdown",
   "id": "a5a8d325",
   "metadata": {},
   "source": [
    "## Trial #2"
   ]
  },
  {
   "cell_type": "code",
   "execution_count": 15,
   "id": "b820bd6d",
   "metadata": {},
   "outputs": [],
   "source": [
    "X = np.random.uniform(0,1, size = (600,4))\n",
    "lambdas = [lambda x: np.prod([m.sin(2* xs * m.pi) for xs in x]),\n",
    "           lambda x: np.prod([m.sin(2* xs * m.pi + m.pi/2) for xs in x])]\n",
    "bandit = cb.ContextBandit(lambdas)\n",
    "actions,rewards,regrets2 = KNN_UCB(bandit,X, 0.5, lambda a : 1)"
   ]
  },
  {
   "cell_type": "code",
   "execution_count": 19,
   "id": "a87c506e",
   "metadata": {},
   "outputs": [
    {
     "name": "stdout",
     "output_type": "stream",
     "text": [
      "Stored 'regrets2' (list)\n"
     ]
    },
    {
     "data": {
      "text/plain": [
       "299"
      ]
     },
     "execution_count": 19,
     "metadata": {},
     "output_type": "execute_result"
    },
    {
     "data": {
      "image/png": "[encoded data removed]",
      "text/plain": [
       "<Figure size 432x288 with 1 Axes>"
      ]
     },
     "metadata": {
      "needs_background": "light"
     },
     "output_type": "display_data"
    }
   ],
   "source": [
    "%store regrets2\n",
    "plt.plot(regrets2)\n",
    "plt.xlabel(\"n\")\n",
    "plt.ylabel(\"$R_n$\")\n",
    "plt.title(\"Regret of KNN\")\n",
    "np.sum(np.subtract(regrets2[1:], regrets2[0:-1]) == 0 )"
   ]
  },
  {
   "cell_type": "markdown",
   "id": "2801191e",
   "metadata": {},
   "source": [
    "## Trial #3"
   ]
  },
  {
   "cell_type": "code",
   "execution_count": 46,
   "id": "008c9dad",
   "metadata": {},
   "outputs": [],
   "source": [
    "X = np.random.uniform(0,1, size = (1000,4))\n",
    "lambdas = [lambda x: np.prod([m.sin(xs * m.pi) for xs in x]),\n",
    "           lambda x: np.prod([m.sin(xs * m.pi/2) for xs in x])]\n",
    "bandit = cb.ContextBandit(lambdas)\n",
    "actions,rewards,regrets3 = KNN_UCB(bandit,X, 0.5, lambda a : 1)"
   ]
  },
  {
   "cell_type": "code",
   "execution_count": 48,
   "id": "1659d95b",
   "metadata": {},
   "outputs": [
    {
     "name": "stdout",
     "output_type": "stream",
     "text": [
      "Stored 'regrets3' (list)\n"
     ]
    },
    {
     "data": {
      "text/plain": [
       "635"
      ]
     },
     "execution_count": 48,
     "metadata": {},
     "output_type": "execute_result"
    },
    {
     "data": {
      "image/png": "[encoded data removed]",
      "text/plain": [
       "<Figure size 432x288 with 1 Axes>"
      ]
     },
     "metadata": {
      "needs_background": "light"
     },
     "output_type": "display_data"
    }
   ],
   "source": [
    "%store regrets3\n",
    "plt.plot(regrets3)\n",
    "plt.xlabel(\"n\")\n",
    "plt.ylabel(\"$R_n$\")\n",
    "plt.title(\"Regret of KNN-UCB\")\n",
    "np.sum(np.subtract(regrets3[1:], regrets3[0:-1]) == 0 )"
   ]
  },
  {
   "cell_type": "markdown",
   "id": "f511f267",
   "metadata": {},
   "source": [
    "## case 3\n",
    "$Z_i~from~ Unif((0,1)^d), \\mathbb{E}(Y_i|Z_i=(z_{ij})) =  \\prod_{j=1}^d \\sin(\\theta_0 z_{ij}+\\theta_1 *a),  X_i = h(Z_i);\n",
    "\\\\ h:R^d \\rightarrow R^D$"
   ]
  },
  {
   "cell_type": "code",
   "execution_count": null,
   "id": "c3102694",
   "metadata": {},
   "outputs": [],
   "source": [
    "Z = np.random.uniform(0,1, size = (500,3))\n"
   ]
  },
  {
   "cell_type": "code",
   "execution_count": null,
   "id": "f5b4713d",
   "metadata": {},
   "outputs": [],
   "source": [
    "\n",
    "\n",
    "Y = np.random"
   ]
  }
 ],
 "metadata": {
  "kernelspec": {
   "display_name": "Python 3 (ipykernel)",
   "language": "python",
   "name": "python3"
  },
  "language_info": {
   "codemirror_mode": {
    "name": "ipython",
    "version": 3
   },
   "file_extension": ".py",
   "mimetype": "text/x-python",
   "name": "python",
   "nbconvert_exporter": "python",
   "pygments_lexer": "ipython3",
   "version": "3.9.7"
  }
 },
 "nbformat": 4,
 "nbformat_minor": 5
}
