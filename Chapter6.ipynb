{
 "cells": [
  {
   "cell_type": "code",
   "execution_count": 29,
   "id": "da7e0f15",
   "metadata": {},
   "outputs": [],
   "source": [
    "import numpy as np\n",
    "from scipy.stats import bernoulli\n",
    "import matplotlib as plt\n",
    "from matplotlib import pyplot\n",
    "from scipy.interpolate import make_interp_spline\n",
    "import random \n",
    "import math"
   ]
  },
  {
   "cell_type": "code",
   "execution_count": 2,
   "id": "dccbfb1e",
   "metadata": {},
   "outputs": [],
   "source": [
    "class BernoulliBandit :\n",
    "    def __init__ (self , means):\n",
    "        for i in means:\n",
    "            assert(i <= 1 and i >= 0)\n",
    "        self.means = means\n",
    "        self.k = len(means)\n",
    "        self.best_mean = max(means)\n",
    "        self.regret = 0\n",
    "# Function should return the number of arms\n",
    "    def get_K( self ):\n",
    "         return self.k\n",
    "# Accepts a parameter 0 <= a <= K -1 and returns the\n",
    "# realisation of random variable X with P(X = 1) being\n",
    "# the mean of the (a +1) th arm .\n",
    "    def pull (self , a):\n",
    "        self.regret += (self.best_mean - self.means[a])\n",
    "        return bernoulli.rvs(self.means[a], size=1)\n",
    "\n",
    "    def get_regret ( self ):\n",
    "        return self.regret"
   ]
  },
  {
   "cell_type": "code",
   "execution_count": 3,
   "id": "4752c4b3",
   "metadata": {},
   "outputs": [],
   "source": [
    "class GaussianBandit :\n",
    "    def __init__ (self , means):\n",
    "        self.means = means\n",
    "        self.k = len(means)\n",
    "        self.best_mean = max(means)\n",
    "        self.regret = 0\n",
    "        \n",
    "    def pull (self , a):\n",
    "        self.regret += (self.best_mean - self.means[a])\n",
    "        return random.gauss(self.means[a], 1)\n"
   ]
  },
  {
   "cell_type": "code",
   "execution_count": 4,
   "id": "b5fb1913",
   "metadata": {},
   "outputs": [],
   "source": [
    "def ETC(n, m, bandit): ##Explore then commit algorithm\n",
    "    k = bandit.k\n",
    "    rewards= np.zeros(n)\n",
    "    total_reward=0\n",
    "    actions = np.zeros(n)\n",
    "    for i in range(n):\n",
    "        if(i<= m*k - 1):\n",
    "            rewards[i] = bandit.pull(i%k)\n",
    "            total_reward += rewards[i]\n",
    "            actions[i] = i%k\n",
    "        else: \n",
    "            if(i == m*k): ##optimization\n",
    "                best_mean_index = np.argmax(np.mean(np.transpose(np.reshape(rewards[0:m*k], (m,k))),1))\n",
    "            actions[i] = best_mean_index\n",
    "            rewards[i] = bandit.pull(best_mean_index)\n",
    "            total_reward += rewards[i]\n",
    "    random_regret = n * bandit.best_mean - total_reward\n",
    "    return np.array([(i,j) for (i,j) in zip(actions,rewards)]), random_regret ## returns a list of a_t, x_t pairs and the observed random regret\n",
    "    "
   ]
  },
  {
   "cell_type": "code",
   "execution_count": 111,
   "id": "3555d59e",
   "metadata": {},
   "outputs": [],
   "source": [
    "def elimination(ml, bandit):\n",
    "    k = bandit.k\n",
    "    results = dict() ## to store the process divided into phases\n",
    "    A = np.array(range(k)) \n",
    "    for phase in range(len(ml)):\n",
    "        a_x = [] ## to store pairs of a_t, x_t in each phase\n",
    "        average_rewards = np.zeros(len(A))\n",
    "        for i, a in enumerate(A):\n",
    "            for l in range(ml[phase]): ## pull each arm m_l times\n",
    "                reward = bandit.pull(a)\n",
    "                average_rewards[i] = (average_rewards[i]*l + reward) / (l+1)\n",
    "                a_x.append((a,reward[0]))\n",
    "        results[phase+1] = a_x\n",
    "        mu_max = np.max(average_rewards)\n",
    "        A = A[(average_rewards + (0.5)**(phase+1) >= mu_max)]\n",
    "    return bandit.regret , results"
   ]
  },
  {
   "cell_type": "code",
   "execution_count": 121,
   "id": "2c92c204",
   "metadata": {},
   "outputs": [
    {
     "data": {
      "text/plain": [
       "7.099999999999927"
      ]
     },
     "execution_count": 121,
     "metadata": {},
     "output_type": "execute_result"
    }
   ],
   "source": [
    "bandit = BernoulliBandit([0.59,0.6,0.61])\n",
    "regret , results = elimination([50,50,50,50,50,5], bandit)\n",
    "regret"
   ]
  },
  {
   "cell_type": "code",
   "execution_count": 123,
   "id": "e4bb7f57",
   "metadata": {},
   "outputs": [],
   "source": [
    "trials = 100\n",
    "horizon = 500\n",
    "mean_regrets = np.zeros(50)\n",
    "for m in range(2,101,2): ## m = [2,4,...,50]\n",
    "    for i in range(trials):\n",
    "        bandit= BernoulliBandit([0.5,0.6,0.7])\n",
    "        results, observed_random_regret = ETC(horizon,m,bandit)\n",
    "        mean_regrets[int(m/2) - 1] = (mean_regrets[int(m/2) - 1] * i + bandit.get_regret())/(i+1) "
   ]
  },
  {
   "cell_type": "code",
   "execution_count": 124,
   "id": "a52e3aff",
   "metadata": {
    "scrolled": true
   },
   "outputs": [
    {
     "data": {
      "text/plain": [
       "Text(0.5, 1.0, 'ETC regret against m')"
      ]
     },
     "execution_count": 124,
     "metadata": {},
     "output_type": "execute_result"
    },
    {
     "data": {
      "image/png": "[encoded data removed]",
      "text/plain": [
       "<Figure size 432x288 with 1 Axes>"
      ]
     },
     "metadata": {
      "needs_background": "light"
     },
     "output_type": "display_data"
    }
   ],
   "source": [
    "pyplot.scatter(range(2,101,2), mean_regrets)\n",
    "pyplot.xlabel('m')\n",
    "pyplot.ylabel('mean regret')\n",
    "pyplot.title(\"ETC regret against m\")"
   ]
  },
  {
   "cell_type": "code",
   "execution_count": 6,
   "id": "0e7e2a98",
   "metadata": {},
   "outputs": [],
   "source": [
    "def eps_greedy(epsilons, bandit): ##epsilon greedy algorithm\n",
    "    k = bandit.k\n",
    "    means = np.zeros(k)\n",
    "    n_times_pulled = np.ones(k)\n",
    "    n = len(epsilons) ##horizon is number of arms + length of sequence given\n",
    "    bools = np.random.uniform(0,1,len(epsilons)) > epsilons ##the sequence of Bernoulli(1-eps) random variables\n",
    "    actions = np.zeros(n + k)\n",
    "    rewards = np.zeros(n + k)\n",
    "    for i in range(k):\n",
    "        means[i] = bandit.pull(i)\n",
    "        actions[i] = i\n",
    "        rewards[i] = means[i]\n",
    "    for i in range(n):\n",
    "        if(bools[i]):\n",
    "            rewards[i + k] = bandit.pull(np.argmax(means))\n",
    "            actions[i + k] = np.argmax(means)\n",
    "            means[np.argmax(means)] = (means[np.argmax(means)]*n_times_pulled[np.argmax(means)] + rewards[i + k])/(n_times_pulled[np.argmax(means)]+1)\n",
    "            n_times_pulled[np.argmax(means)]+=1\n",
    "        else:\n",
    "            arm = random.randint(0,k-1)\n",
    "            rewards[i + k] = bandit.pull(arm)\n",
    "            actions[i + k] = arm\n",
    "            means[arm] = (means[arm]*n_times_pulled[arm] + rewards[i + k])/(n_times_pulled[arm]+1)\n",
    "            r n_times_pulled[arm]+=1\n",
    "    return np.array([(i,j) for (i,j) in zip(actions,rewards)]), bandit.regret ##returns a list of a_t, x_t pairs and pseudo-regret "
   ]
  },
  {
   "cell_type": "code",
   "execution_count": 10,
   "id": "dd61fd88",
   "metadata": {},
   "outputs": [],
   "source": [
    "trials = 20\n",
    "avg_regrets = []\n",
    "eps_ = np.linspace((0.6,0.1),(0.3,0.1), 100) \n",
    "for i,j in eps_:\n",
    "    regrets= np.zeros(trials)\n",
    "    for i in range(trials):\n",
    "        eps = np.linspace(i,j,1000)\n",
    "        bandit= BernoulliBandit([0.5,0.6,0.7])\n",
    "        results, regret = eps_greedy(eps,bandit)\n",
    "        regrets[i] = regret\n",
    "    avg_regrets.append(np.mean(regrets))"
   ]
  },
  {
   "cell_type": "code",
   "execution_count": 28,
   "id": "9786a21a",
   "metadata": {},
   "outputs": [
    {
     "data": {
      "text/plain": [
       "[<matplotlib.lines.Line2D at 0x1c2fa6eb880>]"
      ]
     },
     "execution_count": 28,
     "metadata": {},
     "output_type": "execute_result"
    },
    {
     "data": {
      "image/png": "[encoded data removed]",
      "text/plain": [
       "<Figure size 432x288 with 1 Axes>"
      ]
     },
     "metadata": {
      "needs_background": "light"
     },
     "output_type": "display_data"
    }
   ],
   "source": [
    "pyplot.plot(eps_[:,0],avg_regrets)"
   ]
  },
  {
   "cell_type": "markdown",
   "id": "2c9e63f3",
   "metadata": {},
   "source": [
    "# Exercises\n",
    "\n",
    "## 6.1\n",
    "$\\hat{\\mu}_i(mk) = \\frac{1}{T_i(mk)}\\sum^{mk}_{s=1}\\mathbb{1}(A_s=1)X_s$\n",
    "By the canonical model, every non-zero term in the sum is drawn from $\\mathbb{P}_{A_i}(.)$ distribution which is 1-subgaussian. And by the algorithm there are m non-zero terms.\n",
    "show that $\\frac{1}{m}(\\sum^m_1X_t + \\sum^m_1X_1)$ is $\\sqrt{\\frac{2}{m}}-subgaussian$.\n",
    "How to deal with the added constant?"
   ]
  },
  {
   "cell_type": "markdown",
   "id": "02a7d8e8",
   "metadata": {},
   "source": [
    "## 6.2\n",
    "### Case 1:\n",
    "$\\Delta \\leq \\frac{1}{\\sqrt{n}}$:\n",
    "\n",
    "$R_n \\leq n\\Delta \\leq \\sqrt{n}$\n",
    "\n",
    "### Case 2:\n",
    "$\\Delta \\geq \\frac{1}{\\sqrt{n}}$:\n",
    "\n",
    "$R_n \\leq \\Delta + \\frac{4}{\\Delta}\\Bigl(1+max\\{0, log(\\frac{n\\Delta^2}{4})\\}\\Bigr)$\n",
    "\n",
    "$R_n \\leq \\Delta + 4\\sqrt{n} + \\max_{\\Delta'>0}\\frac{4}{\\Delta'}log(\\frac{n\\Delta'^2}{4})$\n",
    "\n",
    "Finding the first derivative for the right-most term and equating to 0:\n",
    "\n",
    "$\\frac{8}{\\Delta'^2}-\\frac{4}{\\Delta'^2}log(\\frac{n\\Delta'^2}{4}) = 0$\n",
    "\n",
    "Evaluting, we get $\\Delta' = \\frac{2e}{\\sqrt{n}}$\n",
    "\n",
    "Can check that the second derivate is negative.\n",
    "\n",
    "Substituting, we get:\n",
    "\n",
    "$R_n \\leq \\Delta + 4\\sqrt{n} + \\frac{4\\sqrt{n}}{e} \\leq \\Delta + (4+\\frac{4}{e})\\sqrt{n}$\n"
   ]
  },
  {
   "cell_type": "markdown",
   "id": "ce5eec21",
   "metadata": {},
   "source": [
    "# 6.3\n",
    "\n",
    "Assuming that n>2m, and let $\\Delta_2$ be the suboptimality gap of the suboptimal arm, we have that:\n",
    "\n",
    "$\\mathbb{P}(T_2(n)>m) \\leq \\mathbb{P}(\\hat{\\mu}_2(2m) - \\hat{\\mu_2} + \\mu_1 - \\mu_2 \\geq \\Delta_2) \\leq exp(-\\frac{m\\Delta^2}{4})$ as seen before.\n",
    "\n",
    "Setting $m = \\frac{4}{\\Delta^2}log(\\frac{1}{\\delta})$ would yield:\n",
    "\n",
    "$\\mathbb{P}(T_2(n) >m) \\leq \\delta$\n",
    "\n",
    "We thus have the bound on the pseudo-regret with probability 1-$\\delta$:\n",
    "\n",
    "$\\bar{R}_n \\leq m\\Delta_2 = \\frac{4}{\\Delta_2}log(\\frac{1}{\\delta})$\n"
   ]
  },
  {
   "cell_type": "markdown",
   "id": "37ef75f4",
   "metadata": {},
   "source": [
    "# 6.4\n",
    "\n",
    "We need:\n",
    "$\\mathbb{P}(n\\mu^*-\\sum^n_{t=1}X_t \\leq \\epsilon) = 1- \\delta$\n",
    "We have that:\n",
    "\n",
    "$\\mathbb{P}(n\\mu^*-\\sum^n_{t=1}X_t \\leq \\epsilon) = \\mathbb{P}(\\sum^n_{t=1}X_t - n\\mu^* \\geq -\\epsilon) \\leq exp(-\\frac{(\\epsilon)^2}{2n})$ \n",
    "\n",
    "Since $\\sum^n_{t=1}X_t - n\\mu^*$ is $\\sqrt{n}-subgaussian$.\n",
    "\n",
    "setting $\\epsilon = \\sqrt{2nlog(\\frac{1}{1-\\delta})}$ will give us the bound:\n",
    "$R_n < \\sqrt{2nlog(\\frac{1}{1-\\delta})}$ with probability $1-\\delta$\n",
    "\n",
    "We conclude that the $1-\\delta$-probaility bound for the random regret is in O($\\sqrt{n}$) whereas for the pseudo-regret, it is in O(1). "
   ]
  },
  {
   "cell_type": "markdown",
   "id": "3c0e41f7",
   "metadata": {},
   "source": [
    "## 6.6\n",
    "## a) \n",
    "Let $N_0$ =0 and for $\\mathcal{l}$>1 let $N_\\mathcal{l}=min(N_{\\mathcal{l}-1}+n_\\mathcal{l},n),T_\\mathcal{l}=\\{N_{\\mathcal{l}-1}+1,...,n_\\mathcal{l}\\}$. Policy $\\pi$ is used with horizon $n_\\mathcal{l}$ on interval $T_\\mathcal{l}$. We thus have:\n",
    "\n",
    "$$R_n(\\pi^*, \\mathcal{v}) = \\sum^{\\mathcal{l}_{max}}_{\\mathcal{l}=1}R_{|T_\\mathcal{l}|}(\\pi(n_\\mathcal{l}),\\mathcal(v))\\leq \\sum^{\\mathcal{l}_{max}}_{\\mathcal{l}=1}max_{1\\leq t\\leq n_{\\mathcal{l}}}R_t(\\pi(n_\\mathcal{l}),\\mathcal(v)) \\leq \\sum^{\\mathcal{l}_{max}}_{\\mathcal{l}=1} f_{n_\\mathcal{l}}(\\mathcal{v})$$"
   ]
  },
  {
   "cell_type": "markdown",
   "id": "97ac2542",
   "metadata": {},
   "source": [
    "# 6.7\n",
    "Discuss in the meeting"
   ]
  },
  {
   "cell_type": "markdown",
   "id": "a36bfa16",
   "metadata": {},
   "source": [
    "# 6.8\n",
    "Assuming $X_t$ are 1-subgaussian and using the definition of subgaussianity:\n",
    "\n",
    "## a)\n",
    "\n",
    "\n",
    "$\\mathbb{P}(1\\notin A_{\\ell+1}, 1\\in A_\\ell) \\leq \\mathbb{P}\\Bigl(1\\in A_\\ell, \\exists i \\in A_\\ell \\ \\{1\\} : \\hat{\\mu}_{i,\\ell} \\geq \\hat{\\mu}_{1,\\ell} + 2^{-\\ell}\\Bigr)\n",
    "\\\\ = \\mathbb{P}\\Bigl(1\\in A_\\ell, \\exists i \\in A_\\ell \\ \\{1\\} : \\hat{\\mu}_{i,\\ell} - \\hat{\\mu}_{1,\\ell} \\geq 2^{-\\ell}\\Bigr)\n",
    "\\\\ \\leq \\sum_{i\\in A_\\ell} \\mathbb{P} (\\hat{\\mu}_{i,\\ell} - \\hat{\\mu}_{1,\\ell} \\geq 2^{-\\ell})\n",
    "\\\\ \\leq k exp(\\frac{-m_\\ell 2^{-2\\ell}}{4})$\n",
    "\n",
    "Question: does the inequality hold without centering?\n",
    "\n",
    "## b)\n",
    "$\\mathbb{P}(i\\in A_{\\ell + 1}, 1 \\in A_\\ell , i \\in A_\\ell) \\leq \\mathbb{P} (1 \\in A_\\ell , i \\in A_\\ell, \\hat{\\mu}_{i,\\ell} + 2^{-\\ell} \\geq \\hat{\\mu}_{1,\\ell})\n",
    "\\\\ = \\mathbb{P}(1 \\in A_\\ell , i \\in A_\\ell , (\\hat{\\mu}_{i,\\ell}-\\mu_i) - \\hat{\\mu}_{1,\\ell} - \\mu _1) \\geq \\Delta_i - 2^{-\\ell})\n",
    "\\\\ \\leq exp\\Bigl(- \\frac{m_\\ell(\\Delta_i-2^{-\\ell})^2}{4}\\Bigr)$\n",
    "\n",
    "## c)\n",
    "\n",
    "Taking $m_\\ell = 2^{4+2\\ell}log(\\ell n (1+ k \\pi^2 / 6))$ we have that:\n",
    "$\n",
    "\\mathbb{P}(\\exists \\ell : 1 \\notin A_\\ell) \\leq \\sum^\\infty_{\\ell =1} \\mathbb{P}(1 \\notin A_{\\ell+1}, 1 \\in A_\\ell)\n",
    "\\\\ \\leq k \\sum^\\infty_{\\ell = 1} exp \\Bigl(-\\frac{m_\\ell 2^{2\\ell}}{4}\\Bigr)\n",
    "$"
   ]
  },
  {
   "cell_type": "markdown",
   "id": "45ebeb0e",
   "metadata": {},
   "source": [
    "# 6.9"
   ]
  },
  {
   "cell_type": "markdown",
   "id": "adcf63be",
   "metadata": {},
   "source": [
    "## a) "
   ]
  },
  {
   "cell_type": "code",
   "execution_count": 19,
   "id": "9a325917",
   "metadata": {},
   "outputs": [],
   "source": [
    "def m_max(n, delta):\n",
    "    m= np.max([1, math.ceil((4/delta**2) * np.log(n*delta**2/4))])\n",
    "    return m\n"
   ]
  },
  {
   "cell_type": "markdown",
   "id": "959f6a41",
   "metadata": {},
   "source": [
    "## b)\n"
   ]
  },
  {
   "cell_type": "code",
   "execution_count": 35,
   "id": "f2164583",
   "metadata": {},
   "outputs": [],
   "source": [
    "delta = np.linspace(0.0001,1, 100)\n",
    "expected_regrets = []\n",
    "regrets_std = []\n",
    "trials = 1000\n",
    "horizon = 1000\n",
    "for d in delta:\n",
    "    m = m_max(horizon, d)\n",
    "    regrets = np.zeros(trials)\n",
    "    for i in range(trials):\n",
    "        bandit = GaussianBandit([0,-d])\n",
    "        results, regret = ETC(horizon,m,bandit)\n",
    "        regrets[i] = regret\n",
    "    expected_regrets.append(np.mean(regrets))\n",
    "    regrets_std.append(np.std(regrets))\n",
    "    "
   ]
  },
  {
   "cell_type": "code",
   "execution_count": 58,
   "id": "ac5203bf",
   "metadata": {},
   "outputs": [
    {
     "data": {
      "text/plain": [
       "<matplotlib.legend.Legend at 0x1f8d02398b0>"
      ]
     },
     "execution_count": 58,
     "metadata": {},
     "output_type": "execute_result"
    },
    {
     "data": {
      "image/png": "[encoded data removed]",
      "text/plain": [
       "<Figure size 432x288 with 1 Axes>"
      ]
     },
     "metadata": {
      "needs_background": "light"
     },
     "output_type": "display_data"
    }
   ],
   "source": [
    "pyplot.xlabel('$\\\\Delta$')\n",
    "pyplot.title('ETC regret against $\\\\Delta$')\n",
    "upper_ci = expected_regrets + (1.96*np.array(regrets_std))/np.sqrt(1000)\n",
    "lower_ci = expected_regrets - (1.96*np.array(regrets_std))/np.sqrt(1000)\n",
    "pyplot.fill_between(delta,lower_ci,upper_ci)\n",
    "upper_bound = list(np.min([horizon*d, d + (4/d)*(1+ np.max([0,np.log((horizon*d**2)/4)]))]) for d in delta)\n",
    "pyplot.plot(delta, upper_bound, color = 'orange')\n",
    "pyplot.legend(['upper bound in 6.6', 'mean regret'])"
   ]
  },
  {
   "cell_type": "markdown",
   "id": "6a6627f6",
   "metadata": {},
   "source": [
    "## c)"
   ]
  },
  {
   "cell_type": "code",
   "execution_count": 7,
   "id": "e15adbca",
   "metadata": {},
   "outputs": [],
   "source": [
    "expected_regrets = []\n",
    "trials = 1000\n",
    "horizon = 2000\n",
    "for m in range(10,400,5):\n",
    "    regrets = np.zeros(trials)\n",
    "    for i in range(trials):\n",
    "        bandit = GaussianBandit([0,-0.1])\n",
    "        results, regret = ETC(horizon,m,bandit)\n",
    "        regrets[i] = regret\n",
    "    expected_regrets.append(np.mean(regrets))"
   ]
  },
  {
   "cell_type": "code",
   "execution_count": 9,
   "id": "5115a085",
   "metadata": {},
   "outputs": [
    {
     "data": {
      "text/plain": [
       "Text(0.5, 1.0, 'ETC')"
      ]
     },
     "execution_count": 9,
     "metadata": {},
     "output_type": "execute_result"
    },
    {
     "data": {
      "image/png": "[encoded data removed]",
      "text/plain": [
       "<Figure size 432x288 with 1 Axes>"
      ]
     },
     "metadata": {
      "needs_background": "light"
     },
     "output_type": "display_data"
    }
   ],
   "source": [
    "pyplot.plot(range(10,400,5), expected_regrets)\n",
    "pyplot.xlabel(\"m\")\n",
    "pyplot.ylabel(\"regret\")\n",
    "pyplot.title(\"ETC\")"
   ]
  }
 ],
 "metadata": {
  "kernelspec": {
   "display_name": "Python 3 (ipykernel)",
   "language": "python",
   "name": "python3"
  },
  "language_info": {
   "codemirror_mode": {
    "name": "ipython",
    "version": 3
   },
   "file_extension": ".py",
   "mimetype": "text/x-python",
   "name": "python",
   "nbconvert_exporter": "python",
   "pygments_lexer": "ipython3",
   "version": "3.9.7"
  }
 },
 "nbformat": 4,
 "nbformat_minor": 5
}
