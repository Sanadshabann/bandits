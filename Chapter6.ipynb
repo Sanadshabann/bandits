{
 "cells": [
  {
   "cell_type": "code",
   "execution_count": 74,
   "id": "da7e0f15",
   "metadata": {},
   "outputs": [],
   "source": [
    "import numpy as np\n",
    "from scipy.stats import bernoulli\n",
    "import matplotlib as plt\n",
    "from matplotlib import pyplot"
   ]
  },
  {
   "cell_type": "code",
   "execution_count": 18,
   "id": "dccbfb1e",
   "metadata": {},
   "outputs": [],
   "source": [
    "class BernoulliBandit :\n",
    "    def __init__ (self , means):\n",
    "        for i in means:\n",
    "            assert(i <= 1 and i >= 0)\n",
    "        self.means = means\n",
    "        self.k = len(means)\n",
    "        self.best_mean = max(means)\n",
    "        self.regret = 0\n",
    "# Function should return the number of arms\n",
    "    def get_K( self ):\n",
    "         return self.k\n",
    "# Accepts a parameter 0 <= a <= K -1 and returns the\n",
    "# realisation of random variable X with P(X = 1) being\n",
    "# the mean of the (a +1) th arm .\n",
    "    def pull (self , a):\n",
    "        self.regret += (self.best_mean - self.means[a])\n",
    "        return bernoulli.rvs(self.means[a], size=1)\n",
    "\n",
    "    def get_regret ( self ):\n",
    "        return self.regret"
   ]
  },
  {
   "cell_type": "code",
   "execution_count": 38,
   "id": "b5fb1913",
   "metadata": {},
   "outputs": [],
   "source": [
    "def ETC(n, m, bandit):\n",
    "    k = bandit.k\n",
    "    rewards= np.zeros(n)\n",
    "    total_reward=0\n",
    "    actions = np.zeros(n)\n",
    "    for i in range(n):\n",
    "        if(i<= m*k - 1):\n",
    "            rewards[i] = bandit.pull(i%k)\n",
    "            total_reward += rewards[i]\n",
    "            actions[i] = i%k\n",
    "        else: \n",
    "            if(i == m*k): ##optimization\n",
    "                best_mean_index = np.argmax(np.mean(np.transpose(np.reshape(rewards[0:m*k], (m,k))),1))\n",
    "            actions[i] = best_mean_index\n",
    "            rewards[i] = bandit.pull(best_mean_index)\n",
    "            total_reward += rewards[i]\n",
    "    observed_random_regret = n * bandit.best_mean - total_reward\n",
    "    return np.array([(i,j) for (i,j) in zip(actions,rewards)]), observed_random_regret"
   ]
  },
  {
   "cell_type": "code",
   "execution_count": 93,
   "id": "c27cf4a6",
   "metadata": {},
   "outputs": [
    {
     "data": {
      "text/plain": [
       "array([[0., 0.],\n",
       "       [1., 0.],\n",
       "       [2., 1.],\n",
       "       [0., 0.],\n",
       "       [1., 1.],\n",
       "       [2., 1.],\n",
       "       [0., 1.],\n",
       "       [1., 0.],\n",
       "       [2., 1.],\n",
       "       [0., 0.],\n",
       "       [1., 0.],\n",
       "       [2., 1.],\n",
       "       [0., 0.],\n",
       "       [1., 1.],\n",
       "       [2., 1.],\n",
       "       [2., 1.],\n",
       "       [2., 1.],\n",
       "       [2., 1.],\n",
       "       [2., 0.],\n",
       "       [2., 1.]])"
      ]
     },
     "execution_count": 93,
     "metadata": {},
     "output_type": "execute_result"
    }
   ],
   "source": [
    "bandit = BernoulliBandit([0.3,0.6,0.9])\n",
    "ETC(100,5,bandit)[0][0:20]"
   ]
  },
  {
   "cell_type": "code",
   "execution_count": 90,
   "id": "8b2bb0d9",
   "metadata": {},
   "outputs": [],
   "source": [
    "trials = 100\n",
    "horizon = 500\n",
    "mean_regrets = np.zeros(50)\n",
    "for m in range(2,101,2): ## m = [2,4,...,50]\n",
    "    for i in range(trials):\n",
    "        bandit= BernoulliBandit([0.5,0.6,0.7])\n",
    "        results, observed_random_regret = ETC(horizon,m,bandit)\n",
    "        mean_regrets[int(m/2) - 1] = (mean_regrets[int(m/2) - 1] * i + bandit.get_regret())/(i+1) "
   ]
  },
  {
   "cell_type": "code",
   "execution_count": 91,
   "id": "a52e3aff",
   "metadata": {
    "scrolled": true
   },
   "outputs": [
    {
     "data": {
      "text/plain": [
       "<matplotlib.collections.PathCollection at 0x23c3abfc8e0>"
      ]
     },
     "execution_count": 91,
     "metadata": {},
     "output_type": "execute_result"
    },
    {
     "data": {
      "image/png": "[encoded data removed]",
      "text/plain": [
       "<Figure size 432x288 with 1 Axes>"
      ]
     },
     "metadata": {
      "needs_background": "light"
     },
     "output_type": "display_data"
    }
   ],
   "source": [
    "pyplot.scatter(range(2,101,2), mean_regrets)"
   ]
  },
  {
   "cell_type": "markdown",
   "id": "2c9e63f3",
   "metadata": {},
   "source": [
    "# Exercises\n",
    "\n",
    "## 6.1\n",
    "$\\hat{\\mu}_i(mk) = \\frac{1}{T_i(mk)}\\sum^{mk}_{s=1}\\mathbb{1}(A_s=1)X_s$\n",
    "By the canonical model, every non-zero term in the sum is drawn from $\\mathbb{P}_{A_i}(.)$ distribution which is 1-subgaussian. And by the algorithm there are m non-zero terms.\n",
    "show that $\\frac{1}{m}(\\sum^m_1X_t + \\sum^m_1X_1)$ is $\\sqrt{\\frac{2}{m}}-subgaussian$.\n",
    "How to deal with the added constant?"
   ]
  },
  {
   "cell_type": "markdown",
   "id": "02a7d8e8",
   "metadata": {},
   "source": [
    "## 6.2\n",
    "### Case 1:\n",
    "$\\Delta \\leq \\frac{1}{\\sqrt{n}}$:\n",
    "\n",
    "$R_n \\leq n\\Delta \\leq \\sqrt{n}$\n",
    "\n",
    "### Case 2:\n",
    "$\\Delta \\geq \\frac{1}{\\sqrt{n}}$:\n",
    "\n",
    "$R_n \\leq \\Delta + \\frac{4}{\\Delta}\\Bigl(1+max\\{0, log(\\frac{n\\Delta^2}{4})\\}\\Bigr)$\n",
    "\n",
    "$R_n \\leq \\Delta + 4\\sqrt{n} + \\max_{\\Delta'>0}\\frac{4}{\\Delta'}log(\\frac{n\\Delta'^2}{4})$\n",
    "\n",
    "Finding the first derivative for the right-most term and equating to 0:\n",
    "\n",
    "$\\frac{8}{\\Delta'^2}-\\frac{4}{\\Delta'^2}log(\\frac{n\\Delta'^2}{4}) = 0$\n",
    "\n",
    "Evaluting, we get $\\Delta' = \\frac{2e}{\\sqrt{n}}$\n",
    "\n",
    "Can check that the second derivate is negative.\n",
    "\n",
    "Substituting, we get:\n",
    "\n",
    "$R_n \\leq \\Delta + 4\\sqrt{n} + \\frac{4\\sqrt{n}}{e} \\leq \\Delta + (4+\\frac{4}{e})\\sqrt{n}$\n"
   ]
  },
  {
   "cell_type": "markdown",
   "id": "ce5eec21",
   "metadata": {},
   "source": [
    "# 6.3\n",
    "\n",
    "Assuming that n>2m, and let $\\Delta_2$ be the suboptimality gap of the suboptimal arm, we have that:\n",
    "\n",
    "$\\mathbb{P}(T_2(n)>m) \\leq \\mathbb{P}(\\hat{\\mu}_2(2m) - \\hat{\\mu_2} + \\mu_1 - \\mu_2 \\geq \\Delta_2) \\leq exp(-\\frac{m\\Delta^2}{4})$ as seen before.\n",
    "\n",
    "Setting $m = \\frac{4}{\\Delta^2}log(\\frac{1}{\\delta})$ would yield:\n",
    "\n",
    "$\\mathbb{P}(T_2(n) >m) \\leq \\delta$\n",
    "\n",
    "We thus have the bound on the pseudo-regret with probability 1-$\\delta$:\n",
    "\n",
    "$\\bar{R}_n \\leq m\\Delta_2 = \\frac{4}{\\Delta_2}log(\\frac{1}{\\delta})$\n"
   ]
  },
  {
   "cell_type": "markdown",
   "id": "37ef75f4",
   "metadata": {},
   "source": [
    "# 6.4\n",
    "\n",
    "We need:\n",
    "$\\mathbb{P}(n\\mu^*-\\sum^n_{t=1}X_t \\leq \\epsilon) = 1- \\delta$\n",
    "We have that:\n",
    "\n",
    "$\\mathbb{P}(n\\mu^*-\\sum^n_{t=1}X_t \\leq \\epsilon) = \\mathbb{P}(\\sum^n_{t=1}X_t - n\\mu^* \\geq -\\epsilon) \\leq exp(-\\frac{(\\epsilon)^2}{2n})$ \n",
    "\n",
    "Since $\\sum^n_{t=1}X_t - n\\mu^*$ is $\\sqrt{n}-subgaussian$.\n",
    "\n",
    "setting $\\epsilon = \\sqrt{2nlog(\\frac{1}{1-\\delta})}$ will give us the bound:\n",
    "$R_n < \\sqrt{2nlog(\\frac{1}{1-\\delta})}$ with probability $1-\\delta$\n",
    "\n",
    "We conclude that the $1-\\delta$-probaility bound for the random regret is in O($\\sqrt{n}$) whereas for the pseudo-regret, it is in O(1). "
   ]
  },
  {
   "cell_type": "code",
   "execution_count": null,
   "id": "6e7fdc27",
   "metadata": {},
   "outputs": [],
   "source": []
  }
 ],
 "metadata": {
  "kernelspec": {
   "display_name": "Python 3 (ipykernel)",
   "language": "python",
   "name": "python3"
  },
  "language_info": {
   "codemirror_mode": {
    "name": "ipython",
    "version": 3
   },
   "file_extension": ".py",
   "mimetype": "text/x-python",
   "name": "python",
   "nbconvert_exporter": "python",
   "pygments_lexer": "ipython3",
   "version": "3.9.7"
  }
 },
 "nbformat": 4,
 "nbformat_minor": 5
}
