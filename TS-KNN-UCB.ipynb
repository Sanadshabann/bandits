{
 "cells": [
  {
   "cell_type": "code",
   "execution_count": 1,
   "id": "f6feb80c",
   "metadata": {},
   "outputs": [],
   "source": [
    "import numpy as np\n",
    "from matplotlib import pyplot as plt\n",
    "from scipy.spatial.distance import cdist\n",
    "import math as m\n",
    "import random\n",
    "import ContextBandit as cb\n",
    "import SimKNN\n",
    "from pathos.multiprocessing import ProcessingPool as Pool"
   ]
  },
  {
   "cell_type": "code",
   "execution_count": 4,
   "id": "d79f0af6",
   "metadata": {},
   "outputs": [],
   "source": [
    "def uncertainty(k, actions, rewards, distances,theta,phi, a):\n",
    "    t = len(actions)\n",
    "    k_least = np.argpartition(distances, k - 1)[:k]\n",
    "    N = sum(np.array(actions)[k_least] == a)\n",
    "    U = m.sqrt(theta * m.log(t) / N) + phi(t) * distances[k_least[-1]] if (N != 0) else m.inf\n",
    "    return U\n",
    "    \n",
    "def k_ternary_search(actions, rewards, distances, theta, phi, a):\n",
    "    f = lambda k : uncertainty(k, actions,rewards,distances,theta,phi, a)\n",
    "    t = len(actions) - 1\n",
    "    l = 1\n",
    "    r = t\n",
    "    while(True):\n",
    "        c1 = l + m.floor((r - l)/ 3)\n",
    "        c2 = l + 2 * m.floor((r-l)/3)\n",
    "        if f(c1) > f(c2):\n",
    "            l = c1\n",
    "        elif f(c1)< f(c2):\n",
    "            r = c2\n",
    "        else:\n",
    "            if c1 == c2:\n",
    "                return c1\n",
    "            else:\n",
    "                l,r = c1,c2\n",
    "        if abs(l-r) <= 1:\n",
    "            break\n",
    "    return m.floor((l+r)/2)\n",
    "        \n"
   ]
  },
  {
   "cell_type": "code",
   "execution_count": 3,
   "id": "68ceaafd",
   "metadata": {},
   "outputs": [],
   "source": [
    "def KNN_UCB(bandit,X, theta, phi): ##X:context vector\n",
    "    n = len(X)\n",
    "    regrets = []\n",
    "    n_arms = bandit.k #number of arms\n",
    "    actions = []\n",
    "    rewards = []\n",
    "    assert(n >= n_arms)\n",
    "    for a in range(n_arms): ##play each arm once regardless of context\n",
    "        reward = bandit.pull(a, X[a])\n",
    "        rewards.append(reward)\n",
    "        actions.append(a)\n",
    "        regrets.append(bandit.regret)\n",
    "    for t in range(n_arms,n,1):\n",
    "        if(t%100 == 0):\n",
    "            print(t)\n",
    "        distances= cdist(X[:t], [X[t]], 'Euclidean')\n",
    "        distances = [dist for sublist in distances for dist in sublist]\n",
    "        k_a = np.zeros(n_arms)\n",
    "        index = np.zeros(n_arms) ## to store I_t,k\n",
    "        for a in range(n_arms): ##evaluate k_a for all a\n",
    "            k_a[a]= k_ternary_search(actions, rewards, distances, theta, phi, a)\n",
    "            k_least = np.argpartition(distances, int(k_a[a]-1))[:int(k_a[a])]\n",
    "            N = sum(np.array(actions)[k_least] == a)\n",
    "            S = sum(np.array(rewards)[k_least] * (np.array(actions)[k_least] == a))\n",
    "            f_hat = S/N if (N!=0) else 0\n",
    "            index[a] = f_hat + m.sqrt(theta* m.log(t)/N) + phi(t) * distances[k_least[-1]] if(N!=0) else m.inf\n",
    "        arm = np.argmax(index)\n",
    "        reward = bandit.pull(arm, X[t])\n",
    "        regrets.append(bandit.regret)\n",
    "        actions.append(arm)\n",
    "        rewards.append(reward)\n",
    "    return actions, rewards, regrets"
   ]
  },
  {
   "cell_type": "code",
   "execution_count": 86,
   "id": "7a2d2d54",
   "metadata": {},
   "outputs": [
    {
     "name": "stdout",
     "output_type": "stream",
     "text": [
      "100\n",
      "200\n",
      "300\n",
      "400\n",
      "500\n",
      "600\n",
      "700\n",
      "800\n",
      "900\n",
      "1000\n",
      "1100\n",
      "1200\n",
      "1300\n",
      "1400\n",
      "1500\n",
      "1600\n",
      "1700\n",
      "1800\n",
      "1900\n",
      "2000\n",
      "2100\n",
      "2200\n",
      "2300\n",
      "2400\n",
      "2500\n",
      "2600\n",
      "2700\n",
      "2800\n",
      "2900\n"
     ]
    }
   ],
   "source": [
    "X = np.random.uniform(0,1, size = (3000,2))\n",
    "lambdas = [lambda x: np.prod([m.sin(4*xs * m.pi) for xs in x]),\n",
    "           lambda x: np.prod([m.cos(7*xs * m.pi) for xs in x])]\n",
    "noise = lambda x : np.random.normal(0,0.5)\n",
    "bandit = cb.ContextBandit(lambdas, noise)\n",
    "actions6,rewards6,regrets6= KNN_UCB(bandit,X, 1, lambda a : 25)"
   ]
  },
  {
   "cell_type": "code",
   "execution_count": 88,
   "id": "6eb4cc1c",
   "metadata": {
    "scrolled": true
   },
   "outputs": [
    {
     "data": {
      "text/plain": [
       "1987"
      ]
     },
     "execution_count": 88,
     "metadata": {},
     "output_type": "execute_result"
    }
   ],
   "source": [
    "np.sum(np.subtract(regrets6[1:], regrets6[:-1]) == 0)"
   ]
  },
  {
   "cell_type": "code",
   "execution_count": 75,
   "id": "42a703f5",
   "metadata": {},
   "outputs": [],
   "source": [
    "regrets = np.loadtxt('regrets1.csv', delimiter=',')"
   ]
  },
  {
   "cell_type": "code",
   "execution_count": 79,
   "id": "8b635c6b",
   "metadata": {
    "scrolled": false
   },
   "outputs": [
    {
     "data": {
      "text/plain": [
       "[<matplotlib.lines.Line2D at 0x23deebd7730>]"
      ]
     },
     "execution_count": 79,
     "metadata": {},
     "output_type": "execute_result"
    },
    {
     "data": {
      "image/png": "[encoded data removed]",
      "text/plain": [
       "<Figure size 640x480 with 1 Axes>"
      ]
     },
     "metadata": {},
     "output_type": "display_data"
    }
   ],
   "source": [
    "n = range(1000)\n",
    "n_trials = 20\n",
    "mean_regret = np.mean(regrets, axis = 0)\n",
    "stds = np.std(regrets, axis = 0)\n",
    "plt.xlabel('n')\n",
    "plt.title('Regret of KNN-UCB in Case 1')\n",
    "plt.ylabel(\"$\\\\bar{R}_n$\")\n",
    "upper_ci = mean_regret + (1.96*np.array(stds))/np.sqrt(n_trials)\n",
    "lower_ci = mean_regret - (1.96*np.array(stds))/np.sqrt(n_trials)\n",
    "plt.fill_between(n,lower_ci,upper_ci,facecolor='red', alpha=0.4)\n",
    "plt.plot(n,mean_regret)"
   ]
  },
  {
   "cell_type": "code",
   "execution_count": 82,
   "id": "de759798",
   "metadata": {},
   "outputs": [],
   "source": [
    "X = np.random.uniform(0,1, size = (2000,2))\n",
    "rewards0 = [lambdas[0](x) for x in X]\n",
    "rewards1 = [lambdas[1](x) for x in X ]"
   ]
  },
  {
   "cell_type": "code",
   "execution_count": 83,
   "id": "f423cccf",
   "metadata": {},
   "outputs": [
    {
     "name": "stdout",
     "output_type": "stream",
     "text": [
      "0\n",
      "100\n",
      "200\n",
      "300\n",
      "400\n",
      "500\n",
      "600\n",
      "700\n",
      "800\n",
      "900\n",
      "1000\n",
      "1100\n",
      "1200\n",
      "1300\n",
      "1400\n",
      "1500\n",
      "1600\n",
      "1700\n",
      "1800\n",
      "1900\n"
     ]
    }
   ],
   "source": [
    "maxli = 0\n",
    "for j, x1 in enumerate(X):\n",
    "    if(j%100 == 0):\n",
    "        print(j)\n",
    "    for k, x2 in enumerate(X):\n",
    "        if sum(x2 != x1) == 0:\n",
    "            pass\n",
    "        else:\n",
    "            maxli = max(abs(rewards0[j] - rewards0[k])/cdist([x1],[x2], 'Euclidean')[0][0], maxli)"
   ]
  },
  {
   "cell_type": "code",
   "execution_count": 85,
   "id": "38ba0711",
   "metadata": {},
   "outputs": [
    {
     "data": {
      "text/plain": [
       "-0.069515315165388"
      ]
     },
     "execution_count": 85,
     "metadata": {},
     "output_type": "execute_result"
    }
   ],
   "source": [
    "maxli - 4*m.pi"
   ]
  },
  {
   "cell_type": "code",
   "execution_count": 54,
   "id": "daa542c8",
   "metadata": {},
   "outputs": [
    {
     "data": {
      "text/plain": [
       "-0.14193389967921277"
      ]
     },
     "execution_count": 54,
     "metadata": {},
     "output_type": "execute_result"
    }
   ],
   "source": [
    "lambdas = [lambda x: np.prod([m.sin(4*xs * m.pi) for xs in x]),\n",
    "           lambda x: np.prod([m.cos(7*xs * m.pi) for xs in x])]\n",
    "noise = lambda x : np.random.normal(0,0.5)\n",
    "bandit = cb.ContextBandit(lambdas, noise)\n",
    "bandit.pull(0,[0.4,0.3])"
   ]
  },
  {
   "cell_type": "code",
   "execution_count": 64,
   "id": "ff9b9ab9",
   "metadata": {},
   "outputs": [
    {
     "ename": "ValueError",
     "evalue": "Expected 1D or 2D array, got 3D array instead",
     "output_type": "error",
     "traceback": [
      "\u001b[1;31m---------------------------------------------------------------------------\u001b[0m",
      "\u001b[1;31mValueError\u001b[0m                                Traceback (most recent call last)",
      "\u001b[1;32m~\\AppData\\Local\\Temp\\ipykernel_33256\\3045201127.py\u001b[0m in \u001b[0;36m<module>\u001b[1;34m\u001b[0m\n\u001b[1;32m----> 1\u001b[1;33m \u001b[0mnp\u001b[0m\u001b[1;33m.\u001b[0m\u001b[0msavetxt\u001b[0m\u001b[1;33m(\u001b[0m\u001b[1;34m'regrets.csv'\u001b[0m\u001b[1;33m,\u001b[0m \u001b[0mnp\u001b[0m\u001b[1;33m.\u001b[0m\u001b[0masarray\u001b[0m\u001b[1;33m(\u001b[0m\u001b[0mnp\u001b[0m\u001b[1;33m.\u001b[0m\u001b[0mrandom\u001b[0m\u001b[1;33m.\u001b[0m\u001b[0mnormal\u001b[0m\u001b[1;33m(\u001b[0m\u001b[1;36m0\u001b[0m\u001b[1;33m,\u001b[0m\u001b[1;36m1\u001b[0m\u001b[1;33m,\u001b[0m\u001b[0msize\u001b[0m \u001b[1;33m=\u001b[0m \u001b[1;33m(\u001b[0m\u001b[1;36m2\u001b[0m\u001b[1;33m,\u001b[0m\u001b[1;36m5\u001b[0m\u001b[1;33m,\u001b[0m\u001b[1;36m2\u001b[0m\u001b[1;33m)\u001b[0m\u001b[1;33m)\u001b[0m\u001b[1;33m)\u001b[0m\u001b[1;33m,\u001b[0m \u001b[0mdelimiter\u001b[0m\u001b[1;33m=\u001b[0m\u001b[1;34m','\u001b[0m\u001b[1;33m)\u001b[0m\u001b[1;33m\u001b[0m\u001b[1;33m\u001b[0m\u001b[0m\n\u001b[0m",
      "\u001b[1;32m<__array_function__ internals>\u001b[0m in \u001b[0;36msavetxt\u001b[1;34m(*args, **kwargs)\u001b[0m\n",
      "\u001b[1;32m~\\anaconda3\\lib\\site-packages\\numpy\\lib\\npyio.py\u001b[0m in \u001b[0;36msavetxt\u001b[1;34m(fname, X, fmt, delimiter, newline, header, footer, comments, encoding)\u001b[0m\n\u001b[0;32m   1380\u001b[0m         \u001b[1;31m# Handle 1-dimensional arrays\u001b[0m\u001b[1;33m\u001b[0m\u001b[1;33m\u001b[0m\u001b[0m\n\u001b[0;32m   1381\u001b[0m         \u001b[1;32mif\u001b[0m \u001b[0mX\u001b[0m\u001b[1;33m.\u001b[0m\u001b[0mndim\u001b[0m \u001b[1;33m==\u001b[0m \u001b[1;36m0\u001b[0m \u001b[1;32mor\u001b[0m \u001b[0mX\u001b[0m\u001b[1;33m.\u001b[0m\u001b[0mndim\u001b[0m \u001b[1;33m>\u001b[0m \u001b[1;36m2\u001b[0m\u001b[1;33m:\u001b[0m\u001b[1;33m\u001b[0m\u001b[1;33m\u001b[0m\u001b[0m\n\u001b[1;32m-> 1382\u001b[1;33m             raise ValueError(\n\u001b[0m\u001b[0;32m   1383\u001b[0m                 \"Expected 1D or 2D array, got %dD array instead\" % X.ndim)\n\u001b[0;32m   1384\u001b[0m         \u001b[1;32melif\u001b[0m \u001b[0mX\u001b[0m\u001b[1;33m.\u001b[0m\u001b[0mndim\u001b[0m \u001b[1;33m==\u001b[0m \u001b[1;36m1\u001b[0m\u001b[1;33m:\u001b[0m\u001b[1;33m\u001b[0m\u001b[1;33m\u001b[0m\u001b[0m\n",
      "\u001b[1;31mValueError\u001b[0m: Expected 1D or 2D array, got 3D array instead"
     ]
    }
   ],
   "source": [
    "np.savetxt('regrets.csv', np.asarray(np.random.normal(0,1,size = (2,5,2))), delimiter=',')"
   ]
  }
 ],
 "metadata": {
  "kernelspec": {
   "display_name": "Python 3 (ipykernel)",
   "language": "python",
   "name": "python3"
  },
  "language_info": {
   "codemirror_mode": {
    "name": "ipython",
    "version": 3
   },
   "file_extension": ".py",
   "mimetype": "text/x-python",
   "name": "python",
   "nbconvert_exporter": "python",
   "pygments_lexer": "ipython3",
   "version": "3.9.7"
  }
 },
 "nbformat": 4,
 "nbformat_minor": 5
}
