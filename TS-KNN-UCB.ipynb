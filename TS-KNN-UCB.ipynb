{
 "cells": [
  {
   "cell_type": "code",
   "execution_count": 1,
   "id": "6da2c2d6",
   "metadata": {
    "pycharm": {
     "name": "#%%\n"
    }
   },
   "outputs": [],
   "source": [
    "import numpy as np\n",
    "from matplotlib import pyplot as plt\n",
    "from scipy.spatial.distance import cdist\n",
    "import math as m\n",
    "import random\n",
    "import ContextBandit as cb\n",
    "from scipy.stats import special_ortho_group as ortho\n",
    "from mpl_toolkits import mplot3d"
   ]
  },
  {
   "cell_type": "code",
   "execution_count": null,
   "id": "241472f0",
   "metadata": {
    "pycharm": {
     "name": "#%%\n"
    }
   },
   "outputs": [],
   "source": [
    "def uncertainty(k, actions, rewards, distances,theta,phi, a):\n",
    "    t = len(actions)\n",
    "    k_least = np.argpartition(distances, k - 1)[:k]\n",
    "    N = sum(np.array(actions)[k_least] == a)\n",
    "    U = m.sqrt(theta * m.log(t) / N) + phi(t) * distances[k_least[-1]] if (N != 0) else m.inf\n",
    "    return U\n",
    "    \n",
    "def k_ternary_search(actions, rewards, distances, theta, phi, a):\n",
    "    f = lambda k : uncertainty(k, actions,rewards,distances,theta,phi, a)\n",
    "    t = len(actions) - 1\n",
    "    l = 1\n",
    "    r = t\n",
    "    while(True):\n",
    "        c1 = l + m.floor((r - l)/ 3)\n",
    "        c2 = l + 2 * m.floor((r-l)/3)\n",
    "        if f(c1) > f(c2):\n",
    "            l = c1\n",
    "        elif f(c1)< f(c2):\n",
    "            r = c2\n",
    "        else:\n",
    "            if c1 == c2:\n",
    "                return c1\n",
    "            else:\n",
    "                l,r = c1,c2\n",
    "        if abs(l-r) <= 1:\n",
    "            break\n",
    "    return m.floor((l+r)/2)\n",
    "        \n"
   ]
  },
  {
   "cell_type": "code",
   "execution_count": null,
   "id": "aa6946d2",
   "metadata": {
    "pycharm": {
     "name": "#%%\n"
    }
   },
   "outputs": [],
   "source": [
    "def KNN_UCB(bandit,X, theta, phi): ##X:context vector\n",
    "    n = len(X)\n",
    "    regrets = []\n",
    "    n_arms = bandit.k #number of arms\n",
    "    actions = []\n",
    "    rewards = []\n",
    "    assert(n >= n_arms)\n",
    "    for a in range(n_arms): ##play each arm once regardless of context\n",
    "        reward = bandit.pull(a, X[a])\n",
    "        rewards.append(reward)\n",
    "        actions.append(a)\n",
    "        regrets.append(bandit.regret)\n",
    "    for t in range(n_arms,n,1):\n",
    "        if(t%100 == 0):\n",
    "            print(t)\n",
    "        distances= cdist(X[:t], [X[t]], 'Euclidean')\n",
    "        distances = [dist for sublist in distances for dist in sublist]\n",
    "        k_a = np.zeros(n_arms)\n",
    "        index = np.zeros(n_arms) ## to store I_t,k\n",
    "        for a in range(n_arms): ##evaluate k_a for all a\n",
    "            k_a[a]= k_ternary_search(actions, rewards, distances, theta, phi, a)\n",
    "            k_least = np.argpartition(distances, int(k_a[a]-1))[:int(k_a[a])]\n",
    "            N = sum(np.array(actions)[k_least] == a)\n",
    "            S = sum(np.array(rewards)[k_least] * (np.array(actions)[k_least] == a))\n",
    "            f_hat = S/N if (N!=0) else 0\n",
    "            index[a] = f_hat + m.sqrt(theta* m.log(t)/N) + phi(t) * distances[k_least[-1]] if(N!=0) else m.inf\n",
    "        arm = np.argmax(index)\n",
    "        reward = bandit.pull(arm, X[t])\n",
    "        regrets.append(bandit.regret)\n",
    "        actions.append(arm)\n",
    "        rewards.append(reward)\n",
    "    return actions, rewards, regrets"
   ]
  },
  {
   "cell_type": "markdown",
   "id": "51bff728",
   "metadata": {
    "pycharm": {
     "name": "#%% md\n"
    }
   },
   "source": [
    "## Case A: \n",
    "$ X_i \\in [0,1]^2, \n",
    "\\\\ \\mathbb{E}(Y^{a_1}|x) = \\prod_{j=1}^2 \\sin(4 \\pi x_j),\n",
    "\\\\ \\mathbb{E}(Y^{a_2}|x) = \\prod_{j=1}^2 \\cos(7 \\pi x_j).\n",
    "$"
   ]
  },
  {
   "cell_type": "code",
   "execution_count": null,
   "id": "f835bd0b",
   "metadata": {
    "pycharm": {
     "name": "#%%\n"
    }
   },
   "outputs": [],
   "source": [
    "regretsA = np.loadtxt('regretsA.csv', delimiter=',')"
   ]
  },
  {
   "cell_type": "code",
   "execution_count": null,
   "id": "cdb32ce6",
   "metadata": {
    "pycharm": {
     "name": "#%%\n"
    }
   },
   "outputs": [],
   "source": [
    "n = range(np.shape(regretsA)[1])\n",
    "n_trials = np.shape(regretsA)[0]\n",
    "mean_regretA = np.mean(regretsA, axis = 0)\n",
    "stds = np.std(regrets, axis = 0)\n",
    "plt.xlabel('n')\n",
    "plt.title('Regret of KNN-UCB in Case 1')\n",
    "plt.ylabel(\"$\\\\bar{R}_n$\")\n",
    "plt.ylim(0,2000)\n",
    "upper_ci = mean_regretA + (np.array(stds))\n",
    "lower_ci = mean_regretA - (np.array(stds))\n",
    "plt.fill_between(n,lower_ci,upper_ci,facecolor='red', alpha=0.4)\n",
    "plt.plot(n,mean_regretA)\n",
    "plt.figtext(0.2,-0.1,\"Figure 1: Mean regret and standard deviation \\n of 50 instances of KNN-UCB in the settings of Case 1\")"
   ]
  },
  {
   "cell_type": "markdown",
   "id": "b260beb4",
   "metadata": {
    "pycharm": {
     "name": "#%% md\n"
    }
   },
   "source": [
    "## Case B:"
   ]
  },
  {
   "cell_type": "markdown",
   "id": "57ffb9ac",
   "metadata": {
    "pycharm": {
     "name": "#%% md\n"
    }
   },
   "source": [
    "$ Z \\in [0,1]^2, \n",
    "\\\\ X = Z . U[:2],\\: for\\,some\\, orthogonal\\, matrix\\, U\\, with\\, dimension\\, 3x3\n",
    "\\\\ \\mathbb{E}(Y^{a_1}|z) = \\prod_{j=1}^2 \\sin(3 \\pi z_j),\n",
    "\\\\ \\mathbb{E}(Y^{a_2}|z) = \\prod_{j=1}^2 \\cos(5 \\pi z_j)$"
   ]
  },
  {
   "cell_type": "code",
   "execution_count": null,
   "id": "e2597f2e",
   "metadata": {
    "pycharm": {
     "name": "#%%\n"
    }
   },
   "outputs": [],
   "source": [
    "regretsB = np.loadtxt('regretsB.csv', delimiter=',')"
   ]
  },
  {
   "cell_type": "code",
   "execution_count": null,
   "id": "e0a095c8",
   "metadata": {
    "pycharm": {
     "name": "#%%\n"
    }
   },
   "outputs": [],
   "source": [
    "n = range(np.shape(regretsB)[1])\n",
    "n_trials = np.shape(regretsB[0])\n",
    "mean_regretB = np.mean(regretsB, axis = 0)\n",
    "stds2 = np.std(regretsB, axis = 0)\n",
    "plt.xlabel('n')\n",
    "plt.title('Regret of KNN-UCB in Case 2')\n",
    "plt.ylabel(\"$\\\\bar{R}_n$\")\n",
    "plt.ylim(0,2000)\n",
    "upper_ci2 = mean_regretB + (np.array(stds2))\n",
    "lower_ci2 = mean_regretB - (np.array(stds2))\n",
    "plt.fill_between(n,lower_ci2,upper_ci2,facecolor='red', alpha=0.4)\n",
    "plt.plot(n,mean_regretB)\n",
    "plt.figtext(0.2,-0.1,\"Figure 2: Mean regret and standard deviation \\n of 10 instances of KNN-UCB in the settings of Case 2\")"
   ]
  }
 ],
 "metadata": {
  "kernelspec": {
   "display_name": "Python 3 (ipykernel)",
   "language": "python",
   "name": "python3"
  },
  "language_info": {
   "codemirror_mode": {
    "name": "ipython",
    "version": 3
   },
   "file_extension": ".py",
   "mimetype": "text/x-python",
   "name": "python",
   "nbconvert_exporter": "python",
   "pygments_lexer": "ipython3",
   "version": "3.9.13"
  }
 },
 "nbformat": 4,
 "nbformat_minor": 5
}
