{
 "cells": [
  {
   "cell_type": "code",
   "execution_count": null,
   "outputs": [],
   "source": [
    "import numpy as np\n",
    "from matplotlib import pyplot as plt\n",
    "from scipy.spatial.distance import cdist\n",
    "import math as m\n",
    "import random\n",
    "import ContextBandit as cb\n",
    "from scipy.stats import special_ortho_group as ortho\n",
    "from mpl_toolkits import mplot3d"
   ],
   "metadata": {
    "collapsed": false,
    "pycharm": {
     "name": "#%%\n"
    }
   }
  },
  {
   "cell_type": "code",
   "execution_count": null,
   "outputs": [],
   "source": [
    "def uncertainty(k, actions, rewards, distances,theta,phi, a):\n",
    "    t = len(actions)\n",
    "    k_least = np.argpartition(distances, k - 1)[:k]\n",
    "    N = sum(np.array(actions)[k_least] == a)\n",
    "    U = m.sqrt(theta * m.log(t) / N) + phi(t) * distances[k_least[-1]] if (N != 0) else m.inf\n",
    "    return U\n",
    "    \n",
    "def k_ternary_search(actions, rewards, distances, theta, phi, a):\n",
    "    f = lambda k : uncertainty(k, actions,rewards,distances,theta,phi, a)\n",
    "    t = len(actions) - 1\n",
    "    l = 1\n",
    "    r = t\n",
    "    while(True):\n",
    "        c1 = l + m.floor((r - l)/ 3)\n",
    "        c2 = l + 2 * m.floor((r-l)/3)\n",
    "        if f(c1) > f(c2):\n",
    "            l = c1\n",
    "        elif f(c1)< f(c2):\n",
    "            r = c2\n",
    "        else:\n",
    "            if c1 == c2:\n",
    "                return c1\n",
    "            else:\n",
    "                l,r = c1,c2\n",
    "        if abs(l-r) <= 1:\n",
    "            break\n",
    "    return m.floor((l+r)/2)\n",
    "        \n"
   ],
   "metadata": {
    "collapsed": false,
    "pycharm": {
     "name": "#%%\n"
    }
   }
  },
  {
   "cell_type": "code",
   "execution_count": null,
   "outputs": [],
   "source": [
    "def KNN_UCB(bandit,X, theta, phi): ##X:context vector\n",
    "    n = len(X)\n",
    "    regrets = []\n",
    "    n_arms = bandit.k #number of arms\n",
    "    actions = []\n",
    "    rewards = []\n",
    "    assert(n >= n_arms)\n",
    "    for a in range(n_arms): ##play each arm once regardless of context\n",
    "        reward = bandit.pull(a, X[a])\n",
    "        rewards.append(reward)\n",
    "        actions.append(a)\n",
    "        regrets.append(bandit.regret)\n",
    "    for t in range(n_arms,n,1):\n",
    "        if(t%100 == 0):\n",
    "            print(t)\n",
    "        distances= cdist(X[:t], [X[t]], 'Euclidean')\n",
    "        distances = [dist for sublist in distances for dist in sublist]\n",
    "        k_a = np.zeros(n_arms)\n",
    "        index = np.zeros(n_arms) ## to store I_t,k\n",
    "        for a in range(n_arms): ##evaluate k_a for all a\n",
    "            k_a[a]= k_ternary_search(actions, rewards, distances, theta, phi, a)\n",
    "            k_least = np.argpartition(distances, int(k_a[a]-1))[:int(k_a[a])]\n",
    "            N = sum(np.array(actions)[k_least] == a)\n",
    "            S = sum(np.array(rewards)[k_least] * (np.array(actions)[k_least] == a))\n",
    "            f_hat = S/N if (N!=0) else 0\n",
    "            index[a] = f_hat + m.sqrt(theta* m.log(t)/N) + phi(t) * distances[k_least[-1]] if(N!=0) else m.inf\n",
    "        arm = np.argmax(index)\n",
    "        reward = bandit.pull(arm, X[t])\n",
    "        regrets.append(bandit.regret)\n",
    "        actions.append(arm)\n",
    "        rewards.append(reward)\n",
    "    return actions, rewards, regrets"
   ],
   "metadata": {
    "collapsed": false,
    "pycharm": {
     "name": "#%%\n"
    }
   }
  },
  {
   "cell_type": "code",
   "execution_count": null,
   "outputs": [],
   "source": [
    "X = np.random.uniform(0,1, size = (3000,2))\n",
    "lambdas = [lambda x: np.prod([m.sin(4*xs * m.pi) for xs in x]),\n",
    "           lambda x: np.prod([m.cos(7*xs * m.pi) for xs in x])]\n",
    "noise = lambda x : np.random.normal(0,0.5)\n",
    "bandit = cb.ContextBandit(lambdas, noise)\n",
    "actions6,rewards6,regrets6= KNN_UCB(bandit,X, 1, lambda a : 25)"
   ],
   "metadata": {
    "collapsed": false,
    "pycharm": {
     "name": "#%%\n"
    }
   }
  },
  {
   "cell_type": "code",
   "execution_count": null,
   "outputs": [],
   "source": [
    "np.sum(np.subtract(regrets6[1:], regrets6[:-1]) == 0)"
   ],
   "metadata": {
    "collapsed": false,
    "pycharm": {
     "name": "#%%\n"
    }
   }
  },
  {
   "cell_type": "code",
   "execution_count": null,
   "outputs": [],
   "source": [
    "regrets = np.loadtxt('regrets1.csv', delimiter=',')"
   ],
   "metadata": {
    "collapsed": false,
    "pycharm": {
     "name": "#%%\n"
    }
   }
  },
  {
   "cell_type": "code",
   "execution_count": null,
   "outputs": [],
   "source": [
    "n = range(1000)\n",
    "n_trials = 20\n",
    "mean_regret = np.mean(regrets, axis = 0)\n",
    "stds = np.std(regrets, axis = 0)\n",
    "plt.xlabel('n')\n",
    "plt.title('Regret of KNN-UCB in Case 1')\n",
    "plt.ylabel(\"$\\\\bar{R}_n$\")\n",
    "upper_ci = mean_regret + (1.96*np.array(stds))/np.sqrt(n_trials)\n",
    "lower_ci = mean_regret - (1.96*np.array(stds))/np.sqrt(n_trials)\n",
    "plt.fill_between(n,lower_ci,upper_ci,facecolor='red', alpha=0.4)\n",
    "plt.plot(n,mean_regret)"
   ],
   "metadata": {
    "collapsed": false,
    "pycharm": {
     "name": "#%%\n"
    }
   }
  },
  {
   "cell_type": "code",
   "execution_count": null,
   "outputs": [],
   "source": [
    "X = np.random.uniform(0,1, size = (2000,2))\n",
    "rewards0 = [lambdas[0](x) for x in X]\n",
    "rewards1 = [lambdas[1](x) for x in X ]"
   ],
   "metadata": {
    "collapsed": false,
    "pycharm": {
     "name": "#%%\n"
    }
   }
  },
  {
   "cell_type": "code",
   "execution_count": null,
   "outputs": [],
   "source": [
    "maxli - 4*m.pi"
   ],
   "metadata": {
    "collapsed": false,
    "pycharm": {
     "name": "#%%\n"
    }
   }
  },
  {
   "cell_type": "code",
   "execution_count": null,
   "outputs": [],
   "source": [
    "lambdas = [lambda x: np.prod([m.sin(4*xs * m.pi) for xs in x]),\n",
    "           lambda x: np.prod([m.cos(7*xs * m.pi) for xs in x])]\n",
    "noise = lambda x : np.random.normal(0,0.5)\n",
    "bandit = cb.ContextBandit(lambdas, noise)\n",
    "bandit.pull(0,[0.4,0.3])"
   ],
   "metadata": {
    "collapsed": false,
    "pycharm": {
     "name": "#%%\n"
    }
   }
  },
  {
   "cell_type": "markdown",
   "source": [
    "## Case 2"
   ],
   "metadata": {
    "collapsed": false,
    "pycharm": {
     "name": "#%% md\n"
    }
   }
  },
  {
   "cell_type": "code",
   "execution_count": null,
   "outputs": [],
   "source": [
    "def sim_knn_amb(bandit, Z, theta, phi, h):\n",
    "    X = h(Z)\n",
    "    n = len(Z)\n",
    "    regrets = []\n",
    "    n_arms = bandit.k  # number of arms\n",
    "    actions = []\n",
    "    rewards = []\n",
    "    assert (n >= n_arms)\n",
    "    for a in range(n_arms):  ##play each arm once regardless of context\n",
    "        reward = bandit.pull(a, Z[a])\n",
    "        rewards.append(reward)\n",
    "        actions.append(a)\n",
    "        regrets.append(bandit.regret)\n",
    "    for t in range(n_arms, n, 1):\n",
    "        if(t % 100 == 0):\n",
    "            print(t)\n",
    "        distances = cdist(X[:t], [X[t]], 'Euclidean')\n",
    "        distances = [dist for sublist in distances for dist in sublist]\n",
    "        k_a = np.zeros(n_arms)\n",
    "        index = np.zeros(n_arms)\n",
    "        for a in range(n_arms):\n",
    "            k_a[a] = k_ternary_search(actions, rewards, distances, theta, phi, a)\n",
    "            k_least = np.argpartition(distances, int(k_a[a] - 1))[:int(k_a[a])]\n",
    "            N = sum(np.array(actions)[k_least] == a)\n",
    "            S = sum(np.array(rewards)[k_least] * (np.array(actions)[k_least] == a))\n",
    "            f_hat = S / N if (N != 0) else 0\n",
    "            index[a] = f_hat + m.sqrt(theta * m.log(t) / N) + phi(t) * distances[k_least[-1]] if (N != 0) else m.inf\n",
    "        arm = np.argmax(index)\n",
    "        reward = bandit.pull(arm, Z[t])\n",
    "        regrets.append(bandit.regret)\n",
    "        actions.append(arm)\n",
    "        rewards.append(reward)\n",
    "    return regrets"
   ],
   "metadata": {
    "collapsed": false,
    "pycharm": {
     "name": "#%%\n"
    }
   }
  },
  {
   "cell_type": "code",
   "execution_count": null,
   "outputs": [],
   "source": [
    "Z = np.random.uniform(0, 1, size=(10000, 2))\n",
    "x = ortho.rvs(3)\n",
    "h = lambda z : np.add(np.dot(z, x[:2]), np.random.normal(0,0.1, size = (np.shape(z)[0], np.shape(x)[1])))\n",
    "lambdas = [lambda x: np.prod([m.sin(3 * xs * m.pi) for xs in x]),\n",
    "        lambda x: np.prod([m.cos(5 * xs * m.pi) for xs in x])]\n",
    "noise = lambda x: np.random.normal(0, 0.5)\n",
    "bandit = cb.ContextBandit(lambdas, noise)\n",
    "regrets = sim_knn_amb(bandit, Z, 1, lambda a : 16, h)\n"
   ],
   "metadata": {
    "collapsed": false,
    "pycharm": {
     "name": "#%%\n"
    }
   }
  },
  {
   "cell_type": "code",
   "execution_count": null,
   "outputs": [],
   "source": [
    "sum(np.subtract(regrets[1:],regrets[:-1])==0)"
   ],
   "metadata": {
    "collapsed": false,
    "pycharm": {
     "name": "#%%\n"
    }
   }
  },
  {
   "cell_type": "code",
   "execution_count": null,
   "outputs": [],
   "source": [
    "Z = np.random.uniform(0, 1, size=(1000, 2))\n",
    "x = ortho.rvs(3)"
   ],
   "metadata": {
    "collapsed": false,
    "pycharm": {
     "name": "#%%\n"
    }
   }
  }
 ],
 "metadata": {
  "kernelspec": {
   "display_name": "Python 3 (ipykernel)",
   "language": "python",
   "name": "python3"
  },
  "language_info": {
   "codemirror_mode": {
    "name": "ipython",
    "version": 3
   },
   "file_extension": ".py",
   "mimetype": "text/x-python",
   "name": "python",
   "nbconvert_exporter": "python",
   "pygments_lexer": "ipython3",
   "version": "3.9.13"
  }
 },
 "nbformat": 4,
 "nbformat_minor": 5
}