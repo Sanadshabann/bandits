{
 "cells": [
  {
   "cell_type": "markdown",
   "id": "25841aac",
   "metadata": {},
   "source": [
    "# Q4\n",
    "\n",
    "### a)\n",
    "$$ \\mathbb{P}(|X|\\geq\\epsilon) = \\mathbb{P}(X\\geq\\epsilon) + \\mathbb{P}(X<-\\epsilon)$$\n",
    "\n",
    "$$= \\int^{\\infty}_{\\epsilon}\\frac{xe^{-\\frac{x^{2}}{2}}}{2}dx + \\int^{-\\epsilon}_{-\\infty}\\frac{xe^{-\\frac{x^{2}}{2}}}{2}dx$$ \n",
    "The function is even:\n",
    "\n",
    "$$ = \\int^{\\infty}_{\\epsilon}xe^{-\\frac{x^{2}}{2}}dx $$ \n",
    "$substituting \\space u= -\\frac{x^{2}}{2} yields:$\n",
    "\n",
    "$$ = \\int^{-\\frac{\\epsilon^{2}}{2}}_{-\\infty}e^{u}du$$\n",
    "\n",
    "$$= e^{-\\frac{\\epsilon^2}{2}}$$\n",
    "\n",
    "### b)\n",
    "\n",
    "Is the question asking to prove that $\\forall\\epsilon>0$, X is not $\\sqrt{2-\\epsilon}-subgaussian$?\n",
    "\n",
    "Because we have that for $\\epsilon>2$, for any $\\lambda$:\n",
    "\n",
    "$\\mathbb{P}(X\\geq\\lambda) = \\frac{1}{2}exp(-\\frac{\\lambda^2}{2}) \\leq exp(-\\frac{\\lambda^2}{2(2-\\epsilon)}) $\n",
    "\n",
    "Thus X is $\\sqrt{2-\\epsilon}-subgaussian$ (Theorem 5.3)\n"
   ]
  }
 ],
 "metadata": {
  "kernelspec": {
   "display_name": "Python 3 (ipykernel)",
   "language": "python",
   "name": "python3"
  },
  "language_info": {
   "codemirror_mode": {
    "name": "ipython",
    "version": 3
   },
   "file_extension": ".py",
   "mimetype": "text/x-python",
   "name": "python",
   "nbconvert_exporter": "python",
   "pygments_lexer": "ipython3",
   "version": "3.9.7"
  }
 },
 "nbformat": 4,
 "nbformat_minor": 5
}
