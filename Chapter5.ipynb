{
 "cells": [
  {
   "cell_type": "markdown",
   "id": "ddd9a999",
   "metadata": {},
   "source": [
    "# Q4\n",
    "\n",
    "### a)\n",
    "$$ \\mathbb{P}(|X|\\geq\\epsilon) = \\mathbb{P}(X\\geq\\epsilon) + \\mathbb{P}(X<-\\epsilon)$$\n",
    "\n",
    "$$= \\int^{\\infty}_{\\epsilon}\\frac{xe^{-\\frac{x^{2}}{2}}}{2}dx + \\int^{-\\epsilon}_{-\\infty}\\frac{xe^{-\\frac{x^{2}}{2}}}{2}dx$$ \n",
    "The function is even:\n",
    "\n",
    "$$ = \\int^{\\infty}_{\\epsilon}xe^{-\\frac{x^{2}}{2}}dx $$ \n",
    "$substituting \\space u= -\\frac{x^{2}}{2} yields:$\n",
    "\n",
    "$$ = \\int^{-\\frac{\\epsilon^{2}}{2}}_{-\\infty}e^{u}du$$\n",
    "\n",
    "$$= e^{-\\frac{\\epsilon^2}{2}}$$\n",
    "\n",
    "### b)\n",
    "\n"
   ]
  },
  {
   "cell_type": "markdown",
   "id": "0fe6fef2",
   "metadata": {},
   "source": [
    "## Q5\n",
    "\n",
    "$$\\mathbb{P}(\\hat{\\mu}-\\mu\\leq x) \\leq \\frac{c\\mathcal{p}}{\\sqrt{n}}+ \\Theta(\\frac{\\sqrt{n}x}{\\sigma})$$"
   ]
  },
  {
   "cell_type": "markdown",
   "id": "92915a34",
   "metadata": {},
   "source": [
    "## Q8\n",
    "We need to show that $\\mathbb{E}(exp(\\lambda(X_{1}+X_{2}))) \\leq exp(\\frac{1}{2}\\lambda^2(\\sigma_{1}+\\sigma_{2})^2)$.\n",
    "\n",
    "Using Hoelder's inequality, we have that for p>1 (to be optimized later):\n",
    "$$\\mathbb{E}(exp(\\lambda (X_{1}+X_{2}))) \\leq \\mathbb{E}(exp(^{\\lambda X_{1} p}))^{\\frac{1}{p}} \\mathbb{E}(exp(^{\\lambda X_{2} (1-p)}))^{\\frac{1}{1-p}} $$\n",
    "$$\\leq exp(\\frac{\\lambda^2 p^2 \\sigma_{1}^2}{2})^{\\frac{1}{p}}exp(\\frac{\\lambda^2 (1-p)^2 \\sigma_{2}^2}{2})^{\\frac{1}{1-p}} $$\n",
    "$$\\leq exp(\\frac{\\lambda^2 p \\sigma_{1}^2}{2})exp(\\frac{\\lambda^2 (1-p) \\sigma_{2}^2}{2})$$\n",
    "$$= exp(\\frac{\\lambda^2 p \\sigma_{1}^2 + \\lambda^2 \\sigma_{2}^2 - \\lambda^2 p \\sigma_{2}^2}{2})$$\n",
    "choosing p = $\\frac{\\sigma_{2}}{\\sigma_{1}} + 1$\n",
    "\n",
    "$$ = exp(\\frac{1}{2}\\lambda^2(\\sigma_{1}\\sigma_{2}+\\sigma_{1}^2 +\\sigma_{2}^2-\\frac{\\sigma_{2}^3}{\\sigma_{1}})) $$\n",
    "$$\\leq exp(\\frac{1}{2}\\lambda^2(2\\sigma_{1}\\sigma_{2}+\\sigma_{1}^2 +\\sigma_{2}^2))\n",
    "$$\n",
    "Therefore $X_{1} + X_{2}$ is $(\\sigma_1+\\sigma_2)$-subgaussian"
   ]
  },
  {
   "cell_type": "markdown",
   "id": "7a511b6c",
   "metadata": {},
   "source": [
    "## Q10\n",
    "### a)\n",
    "Using the Cramer-Chernoff method, we have that for all $\\lambda\\geq0$:\n",
    "$\\mathbb{P}(\\hat{\\mu}_{n}\\geq \\epsilon) = \\mathbb{P}\\Bigl(exp(\\lambda n \\hat{\\mu}_n) \\geq exp(n\\lambda\\epsilon)\\Bigr)\n",
    "\\\\ \\leq \\frac{\\mathbb{E}[exp(\\lambda \\sum_{1}^{n}X_t)]}{exp(n\\lambda\\epsilon)}\\; \\text{ using Markov's inequality}\n",
    "\\\\ = \\frac{M_X(\\lambda)^n}{exp(\\lambda n \\epsilon)}\n",
    "\\\\ \\text{taking the log of both sides:}\n",
    "\\\\ \\frac{1}{n} log \\mathbb{P}(\\hat{\\mu}_n \\geq \\epsilon) \\leq -(\\lambda \\epsilon - M_X(\\lambda))\n",
    "\\\\ \\text{Since this holds for all } \\lambda \\geq 0, \\text{ taking the supremum over } \\lambda \\text{ yields the desired result.}\n",
    "$ "
   ]
  },
  {
   "cell_type": "markdown",
   "id": "cf7f021f",
   "metadata": {},
   "source": [
    "## Q12 (Discuss in the meeting)\n",
    "\n",
    "### a) \n",
    "Direct using Hoeffding's lemma\n",
    "\n",
    "But when I try to prove it using the definition:\n",
    "\n",
    "$\\mathbb{E}(exp(\\lambda X)) = 1-p+pe^{\\lambda}$\n",
    "\n",
    "which is not less than or equal to $exp(\\frac{\\lambda^2}{8})$ for all lambda and p\n",
    "### b)\n"
   ]
  }
 ],
 "metadata": {
  "kernelspec": {
   "display_name": "Python 3 (ipykernel)",
   "language": "python",
   "name": "python3"
  },
  "language_info": {
   "codemirror_mode": {
    "name": "ipython",
    "version": 3
   },
   "file_extension": ".py",
   "mimetype": "text/x-python",
   "name": "python",
   "nbconvert_exporter": "python",
   "pygments_lexer": "ipython3",
   "version": "3.9.7"
  }
 },
 "nbformat": 4,
 "nbformat_minor": 5
}
