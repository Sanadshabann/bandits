{
 "cells": [
  {
   "cell_type": "code",
   "execution_count": 10,
   "id": "709e1f34",
   "metadata": {},
   "outputs": [],
   "source": [
    "import numpy as np"
   ]
  },
  {
   "cell_type": "code",
   "execution_count": 11,
   "id": "4f0c251d",
   "metadata": {},
   "outputs": [],
   "source": [
    "X = np.random.uniform(0,1,size = (1,100))\n",
    "np.savetxt(\"test.csv\", np.asarray(X), delimiter = \",\")"
   ]
  },
  {
   "cell_type": "code",
   "execution_count": 12,
   "id": "924e2fd6",
   "metadata": {},
   "outputs": [],
   "source": [
    "with open(\"test.csv\", \"ab\") as f:\n",
    "    np.savetxt(f, np.asarray(X), delimiter = \",\")"
   ]
  }
 ],
 "metadata": {
  "kernelspec": {
   "display_name": "Python 3 (ipykernel)",
   "language": "python",
   "name": "python3"
  },
  "language_info": {
   "codemirror_mode": {
    "name": "ipython",
    "version": 3
   },
   "file_extension": ".py",
   "mimetype": "text/x-python",
   "name": "python",
   "nbconvert_exporter": "python",
   "pygments_lexer": "ipython3",
   "version": "3.9.7"
  }
 },
 "nbformat": 4,
 "nbformat_minor": 5
}
