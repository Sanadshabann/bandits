{
 "cells": [
  {
   "cell_type": "code",
   "execution_count": 1,
   "id": "cb594328",
   "metadata": {},
   "outputs": [],
   "source": [
    "import numpy as np\n",
    "from scipy.stats import bernoulli\n",
    "import matplotlib as plt\n",
    "from matplotlib import pyplot\n",
    "from scipy.interpolate import make_interp_spline\n",
    "import random \n",
    "import math"
   ]
  },
  {
   "cell_type": "code",
   "execution_count": 3,
   "id": "ebc3e750",
   "metadata": {},
   "outputs": [],
   "source": [
    "class BernoulliBandit :\n",
    "    def __init__ (self , means):\n",
    "        for i in means:\n",
    "            assert(i <= 1 and i >= 0)\n",
    "        self.means = means\n",
    "        self.k = len(means)\n",
    "        self.best_mean = max(means)\n",
    "        self.regret = 0\n",
    "# Accepts a parameter 0 <= a <= K -1 and returns the\n",
    "# realisation of random variable X with P(X = 1) being\n",
    "# the mean of the (a +1) th arm .\n",
    "    def pull (self , a):\n",
    "        self.regret += (self.best_mean - self.means[a])\n",
    "        return bernoulli.rvs(self.means[a], size=1)"
   ]
  },
  {
   "cell_type": "code",
   "execution_count": 25,
   "id": "76f2c606",
   "metadata": {},
   "outputs": [],
   "source": [
    "class GaussianBandit:\n",
    "    def __init__ (self , means):\n",
    "        self.means = means\n",
    "        self.k = len(means)\n",
    "        self.best_mean = max(means)\n",
    "        self.regret = 0\n",
    "        \n",
    "    def pull (self , a):\n",
    "        self.regret += (self.best_mean - self.means[a])\n",
    "        return random.gauss(self.means[a], 1)\n"
   ]
  },
  {
   "cell_type": "code",
   "execution_count": 12,
   "id": "9b73d906",
   "metadata": {},
   "outputs": [],
   "source": [
    "def UCB(delta, bandit, n):\n",
    "    k = bandit.k #number of arms\n",
    "    upper_bounds = float('inf') * np.ones(k) #set upper bounds to infinity\n",
    "    result = [] #to store pairs of a_t, x_t\n",
    "    means = np.zeros((k,2)) #to store means and T_i\n",
    "    for i in range(n):\n",
    "        arm = np.argmax(upper_bounds)\n",
    "        reward = bandit.pull(arm)\n",
    "        result.append((arm, reward))\n",
    "        means[arm,0] = (means[arm,0] * means[arm,1] + reward)/(means[arm,1]+1)\n",
    "        means[arm,1] += 1\n",
    "        upper_bounds[arm] = means[arm,0] + np.sqrt(2*np.log(1/delta)/means[arm,1])\n",
    "    return result, bandit.regret"
   ]
  },
  {
   "cell_type": "markdown",
   "id": "99d98b70",
   "metadata": {},
   "source": [
    "## Q1\n",
    "### a)\n",
    "$\\mathbb{P}\\Bigl(\\hat{\\mu}-\\mu \\geq \\sqrt{\\frac{2log(1/\\delta)}{T}}\\Bigr) = \\sum_{n=1}^\\infty \\mathbb{E}\\Bigl[\\{\\mathbb{1}\\{T=n\\}\\mathbb{1}\\Bigl\\{\\sum_{t=1}^n(X_t-\\mu)\\geq\\sqrt{2nlog(1/\\delta)}\\Bigr\\}\\Bigr]\n",
    "\\\\ =\\sum_{n=1}^\\infty \\mathbb{E}\\Bigl[\\mathbb{E}\\bigl[\\mathbb{1}\\{T=n\\}\\mathbb{1}\\Bigl\\{\\sum_{t=1}^n(X_t-\\mu)\\geq \\sqrt{2nlog(1/\\delta)}\\Bigr\\}|T\\bigr]\\Bigr]\n",
    "\\\\ =\\sum_{n=1}^\\infty \\mathbb{E}\\Bigl[\\mathbb{1}\\{T=n\\}\\mathbb{E}\\bigl[\\mathbb{1}\\Bigl\\{\\sum_{t=1}^T(X_t-\\mu)\\geq \\sqrt{2Tlog(1/\\delta)}\\Bigr\\}|T\\bigr]\\Bigr]\n",
    "\\\\ \\leq \\sum_{n=1}^\\infty\\mathbb{E}[\\mathbb{1}\\{T=n\\}\\delta]\n",
    "\\\\ = \\delta$\n",
    "\n",
    "### b) (discuss in the meeting)\n",
    "Not sure how to use law of iterated logarithm;\n",
    "\n",
    "$T= min\\bigl\\{n:\\sum_{t=1}^n(X_t-\\mu)\\geq\\sqrt{2nlog(1/\\delta)}\\bigr\\}$\n",
    "\n",
    "$T<\\infty$ because $\\sum_{t=1}^n(X_t-\\mu)$ grows just as fast as $\\sqrt{2nloglogn}$ which grows faster than $\\sqrt{2nlog(1/\\delta)}$  but how to express that mathematically?\n",
    "\n",
    "### c) \n",
    "$\\mathbb{P}\\Bigl(\\hat{\\mu}-\\mu \\geq \\sqrt{\\frac{2log(T(T+1)/\\delta)}{T}}\\Bigr) \\leq \\mathbb{P}\\Bigl(\\exists n : \\sum_{t=1}^n(X_t-\\mu)\\geq \\sqrt{2nlog(n(n+1)/\\delta)}\\Bigr)\n",
    "\\\\ \\leq \\sum_{n=1}^\\infty \\frac{\\delta}{n(n+1)}\n",
    "\\\\ = \\delta$\n"
   ]
  }
 ],
 "metadata": {
  "kernelspec": {
   "display_name": "Python 3 (ipykernel)",
   "language": "python",
   "name": "python3"
  },
  "language_info": {
   "codemirror_mode": {
    "name": "ipython",
    "version": 3
   },
   "file_extension": ".py",
   "mimetype": "text/x-python",
   "name": "python",
   "nbconvert_exporter": "python",
   "pygments_lexer": "ipython3",
   "version": "3.9.7"
  }
 },
 "nbformat": 4,
 "nbformat_minor": 5
}
