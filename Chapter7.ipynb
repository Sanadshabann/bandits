{
 "cells": [
  {
   "cell_type": "code",
   "execution_count": 2,
   "id": "d893624c",
   "metadata": {},
   "outputs": [
    {
     "ename": "ModuleNotFoundError",
     "evalue": "No module named 'pathos'",
     "output_type": "error",
     "traceback": [
      "\u001b[1;31m---------------------------------------------------------------------------\u001b[0m",
      "\u001b[1;31mModuleNotFoundError\u001b[0m                       Traceback (most recent call last)",
      "\u001b[1;32m~\\AppData\\Local\\Temp/ipykernel_49232/1884031392.py\u001b[0m in \u001b[0;36m<module>\u001b[1;34m\u001b[0m\n\u001b[0;32m      7\u001b[0m \u001b[1;32mimport\u001b[0m \u001b[0mmath\u001b[0m\u001b[1;33m\u001b[0m\u001b[1;33m\u001b[0m\u001b[0m\n\u001b[0;32m      8\u001b[0m \u001b[1;32mimport\u001b[0m \u001b[0mSim\u001b[0m \u001b[1;32mas\u001b[0m \u001b[0msim\u001b[0m\u001b[1;33m\u001b[0m\u001b[1;33m\u001b[0m\u001b[0m\n\u001b[1;32m----> 9\u001b[1;33m \u001b[1;32mfrom\u001b[0m \u001b[0mpathos\u001b[0m\u001b[1;33m.\u001b[0m\u001b[0mmultiprocessing\u001b[0m \u001b[1;32mimport\u001b[0m \u001b[0mProcessingPool\u001b[0m \u001b[1;32mas\u001b[0m \u001b[0mPool\u001b[0m\u001b[1;33m\u001b[0m\u001b[1;33m\u001b[0m\u001b[0m\n\u001b[0m",
      "\u001b[1;31mModuleNotFoundError\u001b[0m: No module named 'pathos'"
     ]
    }
   ],
   "source": [
    "import numpy as np\n",
    "from scipy.stats import bernoulli\n",
    "import matplotlib as plt\n",
    "from matplotlib import pyplot\n",
    "from scipy.interpolate import make_interp_spline\n",
    "import random \n",
    "import math\n",
    "import Sim as sim\n",
    "from pathos.multiprocessing import ProcessingPool as Pool"
   ]
  },
  {
   "cell_type": "code",
   "execution_count": null,
   "id": "780fa4ab",
   "metadata": {},
   "outputs": [],
   "source": [
    "class BernoulliBandit :\n",
    "    def __init__ (self , means):\n",
    "        for i in means:\n",
    "            assert(i <= 1 and i >= 0)\n",
    "        self.means = means\n",
    "        self.k = len(means)\n",
    "        self.best_mean = max(means)\n",
    "        self.regret = 0\n",
    "# Accepts a parameter 0 <= a <= K -1 and returns the\n",
    "# realisation of random variable X with P(X = 1) being\n",
    "# the mean of the (a +1) th arm .\n",
    "    def pull (self , a):\n",
    "        self.regret += (self.best_mean - self.means[a])\n",
    "        return bernoulli.rvs(self.means[a], size=1)"
   ]
  },
  {
   "cell_type": "code",
   "execution_count": null,
   "id": "2a3f5803",
   "metadata": {},
   "outputs": [],
   "source": [
    "class GaussianBandit:\n",
    "    def __init__ (self , means):\n",
    "        self.means = means\n",
    "        self.k = len(means)\n",
    "        self.best_mean = max(means)\n",
    "        self.regret = 0\n",
    "        \n",
    "    def pull (self , a):\n",
    "        self.regret += (self.best_mean - self.means[a])\n",
    "        return random.gauss(self.means[a], 1)"
   ]
  },
  {
   "cell_type": "code",
   "execution_count": null,
   "id": "3d7e6021",
   "metadata": {},
   "outputs": [],
   "source": [
    "def ucb(delta, bandit, n):\n",
    "    k = bandit.k #number of arms\n",
    "    upper_bounds = float('inf') * np.ones(k) #set upper bounds to infinity\n",
    "    result = [] #to store pairs of a_t, x_t\n",
    "    means = np.zeros((k,2)) #to store means and T_i\n",
    "    for i in range(n):\n",
    "        arm = np.argmax(upper_bounds)\n",
    "        reward = bandit.pull(arm)\n",
    "        result.append((arm, reward))\n",
    "        means[arm,0] = (means[arm,0] * means[arm,1] + reward)/(means[arm,1]+1)\n",
    "        means[arm,1] += 1\n",
    "        upper_bounds[arm] = means[arm,0] + np.sqrt(2*np.log(1/delta)/means[arm,1])\n",
    "    return result, bandit.regret"
   ]
  },
  {
   "cell_type": "markdown",
   "id": "3ae4b0d3",
   "metadata": {},
   "source": [
    "## Regret bound of Kernel UCB\n",
    "\n",
    "### Algorithm: UCB($\\delta$)\n",
    "^^^^^^^^^^^^^^^^^^^^^^^^^^^^^^^^^^^^^^^^^^^^^^^^^^^^^^^^^^^^^^^\n",
    "\n",
    "1 Input k and $\\delta$\n",
    "\n",
    "2 for $t \\in 1,...,n:$\n",
    "\n",
    "3    $ T_i = \\sum_{t_0 = 1}^{t-1} \\mathbb{1}\\{A_{t_0} = i\\}$\n",
    "\n",
    "4    $ \\hat{\\mu_i} = \\frac{\\sum_{t_0 = 1}^{t-1} \\mathbb{1}\\{A_{t_0} = i\\} y_{t_0}}{T_i}$ \n",
    "\n",
    "5     $$UCB_i(\\delta) =   \\left\\{\n",
    "\\begin{array}{ll}\n",
    "      \\infty &{ },T_i = 0 \\\\\n",
    "      \\hat{\\mu}_i +\\sqrt{\\frac{2\\sigma^2log(1/\\delta)}{T_i}} &,{ } otherwise\\\\\n",
    "\\end{array} \n",
    "\\right.  $$\n",
    "\n",
    "6     Pull $A_t = argmax_i UCB_i (\\delta)$  \n",
    "\n",
    "7     Observe reward $Y_t$\n",
    "\n",
    "8 end for\n",
    "\n",
    "^^^^^^^^^^^^^^^^^^^^^^^^^^^^^^^^^^^^^^^^^^^^^^^^^^^^^^^^^^^^^^^\n",
    "\n",
    "Upper bound:\n",
    "\n",
    "Let |A| = k, a* be the optimal arm, $Y_t^a$ be 1-subgaussian for all $a \\in A$, $\\delta = 1/n^2$, then we have that for any n:\n",
    "\n",
    "$$ R_n \\leq 3 \\sum _{a=1}^k \\Delta_a + \\sum_{a \\in A/\\{a^*\\}} \\frac{16log(n)}{\\Delta_a}$$"
   ]
  },
  {
   "cell_type": "markdown",
   "id": "19ae6ff2",
   "metadata": {},
   "source": [
    "## Q1\n",
    "### a)\n",
    "$\\mathbb{P}\\Bigl(\\hat{\\mu}-\\mu \\geq \\sqrt{\\frac{2log(1/\\delta)}{T}}\\Bigr) = \\sum_{n=1}^\\infty \\mathbb{E}\\Bigl[\\{\\mathbb{1}\\{T=n\\}\\mathbb{1}\\Bigl\\{\\sum_{t=1}^n(X_t-\\mu)\\geq\\sqrt{2nlog(1/\\delta)}\\Bigr\\}\\Bigr]\n",
    "\\\\ =\\sum_{n=1}^\\infty \\mathbb{E}\\Bigl[\\mathbb{E}\\bigl[\\mathbb{1}\\{T=n\\}\\mathbb{1}\\Bigl\\{\\sum_{t=1}^n(X_t-\\mu)\\geq \\sqrt{2nlog(1/\\delta)}\\Bigr\\}|T\\bigr]\\Bigr]\n",
    "\\\\ =\\sum_{n=1}^\\infty \\mathbb{E}\\Bigl[\\mathbb{1}\\{T=n\\}\\mathbb{E}\\bigl[\\mathbb{1}\\Bigl\\{\\sum_{t=1}^T(X_t-\\mu)\\geq \\sqrt{2Tlog(1/\\delta)}\\Bigr\\}|T\\bigr]\\Bigr]\n",
    "\\\\ \\leq \\sum_{n=1}^\\infty\\mathbb{E}[\\mathbb{1}\\{T=n\\}\\delta]\n",
    "\\\\ = \\delta$\n",
    "\n",
    "### b) (discuss in the meeting)\n",
    "Not sure how to use law of iterated logarithm;\n",
    "\n",
    "$T= min\\bigl\\{n:\\sum_{t=1}^n(X_t-\\mu)\\geq\\sqrt{2nlog(1/\\delta)}\\bigr\\}$\n",
    "\n",
    "$T<\\infty$ because $\\sum_{t=1}^n(X_t-\\mu)$ grows just as fast as $\\sqrt{2nloglogn}$ which grows faster than $\\sqrt{2nlog(1/\\delta)}$  but how to express that mathematically?\n",
    "\n",
    "### c) \n",
    "$\\mathbb{P}\\Bigl(\\hat{\\mu}-\\mu \\geq \\sqrt{\\frac{2log(T(T+1)/\\delta)}{T}}\\Bigr) \\leq \\mathbb{P}\\Bigl(\\exists n : \\sum_{t=1}^n(X_t-\\mu)\\geq \\sqrt{2nlog(n(n+1)/\\delta)}\\Bigr)\n",
    "\\\\ \\leq \\sum_{n=1}^\\infty \\frac{\\delta}{n(n+1)}\n",
    "\\\\ = \\delta$\n"
   ]
  },
  {
   "cell_type": "markdown",
   "id": "846d5ac7",
   "metadata": {},
   "source": [
    "## Q2:\n",
    "## a)\n",
    "\n",
    "For $\\sigma$-subgaussian we have that $\\frac{1}{n}\\sum_{i=1}^n(X_i - \\mu)$ is $\\frac{\\sigma}{\\sqrt{n}}$- subgaussian. Therefore 7.1 becomes:\n",
    "$\\\\ \\mathbb{P}\\Bigl(\\mu\\geq \\hat{\\mu} + \\sqrt{\\frac{2\\sigma^2log(1/\\delta)}{n}}\\Bigr)\\leq \\delta,\\forall\\delta\\in (0,1)$\n",
    "\n",
    "7.2 then becomes:\n",
    "$$UCB_i(t-1,\\delta)=   \\left\\{\n",
    "\\begin{array}{ll}\n",
    "      \\infty &{ },T_i(t-1)=0 \\\\\n",
    "      \\hat{\\mu}_i(t-1)+\\sqrt{\\frac{2\\sigma^2log(1/\\delta)}{T_i(t-1)}} &,{ } otherwise\\\\\n",
    "\\end{array} \n",
    "\\right.  $$\n",
    "\n",
    "## b)\n",
    "$$UCB_i(t-1,\\delta)=   \\left\\{\n",
    "\\begin{array}{ll}\n",
    "      \\infty &{ },T_i(t-1)=0 \\\\\n",
    "      \\hat{\\mu}_i(t-1)+\\sqrt{\\frac{2\\sigma_i^2log(1/\\delta)}{T_i(t-1)}} &,{ } otherwise\\\\\n",
    "\\end{array} \n",
    "\\right.  $$\n",
    "\n",
    "## c) \n",
    "Follow the proof of the bound adding the extra $\\sigma^2$ term, it will cancel out when $\\Delta_i$=0 "
   ]
  },
  {
   "cell_type": "markdown",
   "id": "0025d7e3",
   "metadata": {},
   "source": [
    "## Q3) (Discuss in the meeting)\n",
    "\n"
   ]
  },
  {
   "cell_type": "markdown",
   "id": "bd842130",
   "metadata": {},
   "source": [
    "## Q4) (Discuss lower bounds in the meeting)\n"
   ]
  },
  {
   "cell_type": "code",
   "execution_count": null,
   "id": "e4f54fd0",
   "metadata": {},
   "outputs": [],
   "source": [
    "def phaseducb_i(bandit, delta, n):\n",
    "    k = bandit.k #number of arms\n",
    "    upper_bounds = float('inf') * np.ones(k) #set upper bounds to infinity\n",
    "    result = [] #to store pairs of a_t, x_t\n",
    "    means = np.zeros((k,2)) #to store means and T_i\n",
    "    for i in range(k): #pull each arm once\n",
    "        reward = bandit.pull(i)\n",
    "        result.append((i, reward))\n",
    "        means[i,0] = reward\n",
    "        means[i,1] = 1\n",
    "        upper_bounds[i] = means[i,0] + np.sqrt(2*np.log(1/delta))\n",
    "    for i in range(n-k):\n",
    "        if(math.log(i+2, 2)-math.floor(math.log((i+2), 2)) == 0): ##only updates the arm at the beginning of each phase\n",
    "            arm = np.argmax(upper_bounds)\n",
    "        reward = bandit.pull(arm)\n",
    "        result.append((arm, reward))\n",
    "        means[arm,0] = (means[arm,0] * means[arm,1] + reward)/(means[arm,1]+1)\n",
    "        means[arm,1] += 1\n",
    "        upper_bounds[arm] = means[arm,0] + np.sqrt(2*np.log(1/delta)/means[arm,1])\n",
    "    \n",
    "    return result, bandit.regret"
   ]
  },
  {
   "cell_type": "markdown",
   "id": "e49e1885",
   "metadata": {},
   "source": [
    "## Q5) (Discuss lower bounds in the meeting)\n"
   ]
  },
  {
   "cell_type": "code",
   "execution_count": null,
   "id": "02d209b5",
   "metadata": {},
   "outputs": [],
   "source": [
    "def phaseducb_ii(bandit, delta, n, alpha):\n",
    "    k = bandit.k #number of arms\n",
    "    upper_bounds = float('inf') * np.ones(k) #set upper bounds to infinity\n",
    "    result = [] #to store pairs of a_t, x_t\n",
    "    means = np.zeros((k,2)) #to store means and T_i\n",
    "    \n",
    "    for i in range(k): #pull each arm once\n",
    "        reward = bandit.pull(i)\n",
    "        result.append((i, reward))\n",
    "        means[i,0] = reward\n",
    "        means[i,1] = 1\n",
    "        upper_bounds[i] = means[i,0] + np.sqrt(2*np.log(1/delta))\n",
    "        \n",
    "    arm = np.argmax(upper_bounds)\n",
    "    t_l = np.array(means[:,1]) #T_i(t_l - 1), array of number of times each arm is pulled before the beginning of current phase\n",
    "    for i in range(n-k):\n",
    "        if(means[arm,1] >= alpha * t_l[arm]): ##only updates the arm when T_i(t) >= alpha * T_i(t_l-1)\n",
    "            t_l[arm] = means[arm,1]\n",
    "            arm = np.argmax(upper_bounds)\n",
    "        reward = bandit.pull(arm)\n",
    "        result.append((arm, reward))\n",
    "        means[arm,0] = (means[arm,0] * means[arm,1] + reward)/(means[arm,1]+1)\n",
    "        means[arm,1] += 1\n",
    "        upper_bounds[arm] = means[arm,0] + np.sqrt(2*np.log(1/delta)/means[arm,1])\n",
    "    \n",
    "    return result, bandit.regret"
   ]
  },
  {
   "cell_type": "markdown",
   "id": "ef2d56f0",
   "metadata": {},
   "source": [
    "## <center>Empirical Comparison between UCB($\\delta$), UCB(I) and UCB(II)</center>"
   ]
  },
  {
   "cell_type": "markdown",
   "id": "3d3cf01b",
   "metadata": {},
   "source": [
    "## Fixing $\\nu = (\\mathcal{N}(0,1), \\mathcal{N}(-0.1,1), \\mathcal{N}(-0.15,1))$"
   ]
  },
  {
   "cell_type": "markdown",
   "id": "5f7697e1",
   "metadata": {},
   "source": [
    "### <center> Phased-UCB(II) </center>"
   ]
  },
  {
   "cell_type": "code",
   "execution_count": null,
   "id": "08a74d3f",
   "metadata": {
    "scrolled": true
   },
   "outputs": [],
   "source": [
    "trials = 100 ##100 x 8 trials\n",
    "horizon = 1000\n",
    "n = 8\n",
    "alphas = np.linspace(1.5, 4, 100)\n",
    "pool = Pool(processes = n)\n",
    "multiple_results = []\n",
    "for i in range(n):\n",
    "    multiple_results.append(pool.apply_async(sim.sim_ucbii, (trials, horizon,alphas, )))\n",
    "data = [res.get() for res in multiple_results]\n",
    "mean_regrets= np.mean(data, axis = 0)"
   ]
  },
  {
   "cell_type": "code",
   "execution_count": null,
   "id": "d7556d10",
   "metadata": {},
   "outputs": [],
   "source": [
    "# pyplot.rcParams.update({'font.size': 14})\n",
    "pyplot.plot(np.linspace(1.5,4,100), mean_regrets)\n",
    "pyplot.xlabel(\"$\\\\alpha$\")\n",
    "pyplot.ylabel(\"$\\\\bar{R}_n$\")\n",
    "pyplot.title(\"$\\\\bar{R}_n$ of UCB(II) applied on $\\\\nu$ against $\\\\alpha$\") ##delta = 0.1"
   ]
  },
  {
   "cell_type": "markdown",
   "id": "5e419c58",
   "metadata": {},
   "source": [
    "## <center> UCB($\\delta$) </center>"
   ]
  },
  {
   "cell_type": "code",
   "execution_count": null,
   "id": "2a0b5b08",
   "metadata": {},
   "outputs": [],
   "source": [
    "trials = 100 ##100 x 8 trials\n",
    "horizon = 1000\n",
    "n = 4\n",
    "deltas = np.linspace(1/(1.5 * horizon**2), 1/2 , 500)\n",
    "pool = Pool(processes = n)\n",
    "multiple_results = []\n",
    "for i in range(n):\n",
    "    multiple_results.append(pool.apply_async(sim.sim_ucb, (trials, horizon,deltas,)))\n",
    "data = [res.get() for res in multiple_results]\n",
    "mean_regrets= np.mean(data, axis = 0)"
   ]
  },
  {
   "cell_type": "code",
   "execution_count": null,
   "id": "e2f5770f",
   "metadata": {
    "scrolled": true
   },
   "outputs": [],
   "source": [
    "pyplot.plot(deltas, mean_regrets)\n",
    "pyplot.rcParams.update({'font.size': 16})\n",
    "pyplot.xlabel(\"$\\\\delta$\")\n",
    "pyplot.ylabel(\"$\\\\bar{R}_n$\")\n",
    "pyplot.title(\"$\\\\bar{R}_n$ of UCB($\\\\delta$) against $\\\\delta$\")"
   ]
  },
  {
   "cell_type": "code",
   "execution_count": null,
   "id": "1ab6fadc",
   "metadata": {},
   "outputs": [],
   "source": [
    "trials = 1600 ##100 x 8 trials\n",
    "horizon = 1000\n",
    "intervals = 8\n",
    "deltas = np.linspace(0.001,10, intervals * 50)\n",
    "pool = Pool(processes = intervals)\n",
    "multiple_results = []\n",
    "for i in range(intervals):\n",
    "    multiple_results.append(pool.apply_async(sim.sim_ucb, (trials, horizon,deltas[i*50, (i+1)*50],)))\n",
    "data = [res.get() for res in multiple_results]\n",
    "means= np.reshape(data[:,0,:],(400))\n",
    "stds= np.reshape(data[:,1,:],(400))"
   ]
  },
  {
   "cell_type": "code",
   "execution_count": null,
   "id": "a68101b8",
   "metadata": {},
   "outputs": [],
   "source": [
    "pyplot.xlabel('$2log(1/\\\\delta)$')\n",
    "pyplot.title('UBC regret')\n",
    "pyplot.ylabel(\"$\\\\bar{R}_n$\")\n",
    "upper_ci = means + (1.96*np.array(stds))/np.sqrt(1000)\n",
    "lower_ci = means - (1.96*np.array(stds))/np.sqrt(1000)\n",
    "pyplot.fill_between(deltas,lower_ci,upper_ci,facecolor='red', alpha=0.4)\n",
    "pyplot.plot(deltas, means)"
   ]
  },
  {
   "cell_type": "markdown",
   "id": "f125331e",
   "metadata": {},
   "source": [
    "## <center> Phased-UCB(I) </center>"
   ]
  },
  {
   "cell_type": "code",
   "execution_count": null,
   "id": "b3c61e42",
   "metadata": {},
   "outputs": [],
   "source": [
    "trials = 200 ##200 x 8 trials\n",
    "horizon = 1000\n",
    "n = 8\n",
    "deltas = np.linspace(1/horizon**2, 0.2, 100)\n",
    "pool = Pool(processes = n)\n",
    "multiple_results = []\n",
    "for i in range(n):\n",
    "    multiple_results.append(pool.apply_async(sim.sim_ucbi, (trials, horizon,deltas,)))\n",
    "data = [res.get() for res in multiple_results]\n",
    "mean_regrets= np.mean(data, axis = 0)"
   ]
  },
  {
   "cell_type": "code",
   "execution_count": null,
   "id": "3e46a9e1",
   "metadata": {},
   "outputs": [],
   "source": [
    "pyplot.plot(deltas, mean_regrets)\n",
    "pyplot.rcParams.update({'font.size': 16})\n",
    "pyplot.xlabel(\"$\\\\delta$\")\n",
    "pyplot.ylabel(\"$\\\\bar{R}_n$\")\n",
    "pyplot.title(\"$\\\\bar{R}_n$ of UCB(I) against $\\\\delta$\")"
   ]
  },
  {
   "cell_type": "markdown",
   "id": "1df15a87",
   "metadata": {},
   "source": [
    "## Q8\n"
   ]
  },
  {
   "cell_type": "code",
   "execution_count": null,
   "id": "ccbbceb8",
   "metadata": {},
   "outputs": [],
   "source": [
    "trials = 200 \n",
    "horizon = 1000\n",
    "n = 8\n",
    "Deltas = np.linspace(0.01, 1, 100)\n",
    "pool = Pool(processes = n)\n",
    "multiple_results = []\n",
    "for i in range(n):\n",
    "    multiple_results.append(pool.apply_async(sim.sim_ucb_Delta, (trials, horizon, Deltas,0.1,)))\n",
    "data = [res.get() for res in multiple_results]\n",
    "mean_regrets= np.mean(data, axis = 0)"
   ]
  },
  {
   "cell_type": "code",
   "execution_count": null,
   "id": "0e9ec431",
   "metadata": {},
   "outputs": [],
   "source": [
    "pyplot.plot(Deltas, mean_regrets) ##400 trials\n",
    "pyplot.rcParams.update({'font.size': 16})\n",
    "pyplot.xlabel(\"$\\\\Delta$\")\n",
    "pyplot.ylabel(\"$\\\\bar{R}_n$\")\n",
    "pyplot.title(\"$UCB(\\\\delta)$\")"
   ]
  },
  {
   "cell_type": "code",
   "execution_count": null,
   "id": "d054359f",
   "metadata": {
    "scrolled": false
   },
   "outputs": [],
   "source": [
    "pyplot.plot(Deltas, mean_regrets) ##1600 trials\n",
    "pyplot.rcParams.update({'font.size': 16})\n",
    "pyplot.xlabel(\"$\\\\Delta$\")\n",
    "pyplot.ylabel(\"$\\\\bar{R}_n$\")\n",
    "pyplot.title(\"$UCB(\\\\delta)$\")"
   ]
  },
  {
   "cell_type": "markdown",
   "id": "813b887d",
   "metadata": {},
   "source": [
    "Do one more but with confidence interval"
   ]
  },
  {
   "cell_type": "markdown",
   "id": "6f5c916c",
   "metadata": {},
   "source": [
    "## With confidence intervals"
   ]
  },
  {
   "cell_type": "code",
   "execution_count": null,
   "id": "6967b327",
   "metadata": {},
   "outputs": [],
   "source": [
    "trials = 1500\n",
    "horizon = 1000\n",
    "intervals = 4\n",
    "Deltas = np.linspace(0.001,1, intervals * 50)\n",
    "pool = Pool(processes = intervals)\n",
    "multiple_results = []\n",
    "for i in range(intervals):\n",
    "    multiple_results.append(pool.apply_async(sim.sim_ucb_Delta_, (trials, horizon, Deltas[i*50:(i+1)*50], 0.1, )))\n",
    "data = [res.get() for res in multiple_results]"
   ]
  },
  {
   "cell_type": "code",
   "execution_count": null,
   "id": "b4aa82e9",
   "metadata": {},
   "outputs": [],
   "source": [
    "means= np.reshape(np.array(data)[:,0,:],(200))\n",
    "stds= np.reshape(np.array(data)[:,1,:],(200))\n",
    "pyplot.plot(Deltas, means) ##1600 trials\n",
    "pyplot.rcParams.update({'font.size': 16})\n",
    "pyplot.xlabel(\"$\\\\Delta$\")\n",
    "pyplot.ylabel(\"$\\\\bar{R}_n$\")\n",
    "pyplot.title(\"$UCB(\\\\delta)$\")\n",
    "upper_ci = means + (1.96*np.array(stds))/np.sqrt(1000)\n",
    "lower_ci = means - (1.96*np.array(stds))/np.sqrt(1000)\n",
    "pyplot.fill_between(Deltas,lower_ci,upper_ci,facecolor='red', alpha=0.4)"
   ]
  }
 ],
 "metadata": {
  "kernelspec": {
   "display_name": "Python 3 (ipykernel)",
   "language": "python",
   "name": "python3"
  },
  "language_info": {
   "codemirror_mode": {
    "name": "ipython",
    "version": 3
   },
   "file_extension": ".py",
   "mimetype": "text/x-python",
   "name": "python",
   "nbconvert_exporter": "python",
   "pygments_lexer": "ipython3",
   "version": "3.9.7"
  }
 },
 "nbformat": 4,
 "nbformat_minor": 5
}
