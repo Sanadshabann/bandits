{
 "cells": [
  {
   "cell_type": "code",
   "execution_count": 1,
   "id": "381f1473",
   "metadata": {},
   "outputs": [],
   "source": [
    "import numpy as np\n",
    "from matplotlib import pyplot as plt\n",
    "from scipy.spatial.distance import cdist\n",
    "import math as m\n",
    "import random\n",
    "import Bandit as bnd\n",
    "import ContextBandit as cb"
   ]
  },
  {
   "cell_type": "code",
   "execution_count": null,
   "id": "1a92d778",
   "metadata": {},
   "outputs": [],
   "source": [
    "def KNN_UCB(bandit,Z, theta, phi): ##X:context vector\n",
    "    X = \n",
    "    n = len(X)\n",
    "    regrets = []\n",
    "    n_arms = bandit.k #number of arms\n",
    "    actions = []\n",
    "    rewards = []\n",
    "    assert(n >= n_arms)\n",
    "    for a in range(n_arms): ##play each arm once regardless of context\n",
    "        reward = bandit.pull(a, X[a])\n",
    "        rewards.append(reward)\n",
    "        actions.append(a)\n",
    "        regrets.append(bandit.regret)\n",
    "    for t in range(n_arms,n,1):\n",
    "        distances= cdist(X[:t], [X[t]], 'Euclidean')\n",
    "        distances = [dist for sublist in distances for dist in sublist]\n",
    "        k_a = np.zeros(n_arms)\n",
    "        index = np.zeros(n_arms) ## to store I_t,k\n",
    "        for a in range(n_arms): ##evaluate k_a for all a\n",
    "            U = np.zeros(t)\n",
    "            for k in range(1,t+1, 1): ##calculate uncertainty on [t-1]\n",
    "                k_least = np.argpartition(distances, k-1)[:k] ## indices of k nearest neighbours\n",
    "                N = sum(np.array(actions)[k_least] == a) ##N_t,k\n",
    "                U[k-1] = m.sqrt(theta* m.log(t)/N) + phi(t) * distances[k_least[-1]] if (N!=0) else phi(t) * distances[k_least[-1]]\n",
    "            k_a[a] = np.argmin(U) + 1\n",
    "            k_least = np.argpartition(distances, int(k_a[a]-1))[:int(k_a[a])]\n",
    "            N = sum(np.array(actions)[k_least] == a)\n",
    "            S = sum(np.array(rewards)[k_least] * (np.array(actions)[k_least] == a))\n",
    "            f_hat = S/N if (N!=0) else 0\n",
    "            index[a] = f_hat + m.sqrt(theta* m.log(t)/N) + phi(t) * distances[k_least[-1]] if(N!=0) else f_hat + phi(t) * distances[k_least[-1]]\n",
    "        arm = np.argmax(index)\n",
    "        reward = bandit.pull(arm, X[t])\n",
    "        regrets.append(bandit.regret)\n",
    "        actions.append(arm)\n",
    "        rewards.append(reward)\n",
    "    return actions, rewards, regrets"
   ]
  },
  {
   "cell_type": "markdown",
   "id": "cf3bf271",
   "metadata": {},
   "source": [
    "## case 3\n",
    "$Z_i~from~ Unif((0,1)^d), \\mathbb{E}(Y_i|Z_i=(z_{ij})) =  \\prod_{j=1}^d \\sin(\\theta_0 z_{ij}+\\theta_1 *a),  X_i = h(Z_i);\n",
    "\\\\ h:R^d \\rightarrow R^D$"
   ]
  },
  {
   "cell_type": "code",
   "execution_count": 2,
   "id": "65dc2696",
   "metadata": {},
   "outputs": [],
   "source": [
    "Z = np.random.uniform(0,1, size = (500,3))"
   ]
  }
 ],
 "metadata": {
  "kernelspec": {
   "display_name": "Python 3 (ipykernel)",
   "language": "python",
   "name": "python3"
  },
  "language_info": {
   "codemirror_mode": {
    "name": "ipython",
    "version": 3
   },
   "file_extension": ".py",
   "mimetype": "text/x-python",
   "name": "python",
   "nbconvert_exporter": "python",
   "pygments_lexer": "ipython3",
   "version": "3.9.7"
  }
 },
 "nbformat": 4,
 "nbformat_minor": 5
}
